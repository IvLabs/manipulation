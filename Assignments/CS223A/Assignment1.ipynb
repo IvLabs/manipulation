{
 "cells": [
  {
   "cell_type": "code",
   "execution_count": 1,
   "metadata": {},
   "outputs": [],
   "source": [
    "import numpy as np\n",
    "import math "
   ]
  },
  {
   "cell_type": "markdown",
   "metadata": {},
   "source": [
    "Helper Function\n"
   ]
  },
  {
   "cell_type": "code",
   "execution_count": 2,
   "metadata": {},
   "outputs": [],
   "source": [
    "class  helper :\n",
    "    def __init__(self):\n",
    "        self.id = 1\n",
    "    def rotate_x( theta ):\n",
    "        arr = np.array([\n",
    "            [1 ,0 ,0 ],\n",
    "            [0 ,math.cos(theta) , math.sin(theta)],\n",
    "            [0 ,-math.sin(theta) , math.cos(theta)]\n",
    "        ])\n",
    "        return arr\n",
    "    def rotate_y ( self , theta ):\n",
    "        arr = np.array([\n",
    "            [math.cos(theta) ,0 ,math.sin(theta) ],\n",
    "            [0 , 1 , 0],\n",
    "            [-math.sin(theta),0 , math.cos(theta)]\n",
    "        ])\n",
    "        return arr\n",
    "    def rotate_z( self ,theta ):\n",
    "        arr = np.array([\n",
    "            [math.cos(theta) , -math.sin(theta), 0],\n",
    "            [math.sin(theta) , math.cos(theta) ,0 ],\n",
    "            [0,0,1]\n",
    "        ])\n",
    "        return arr\n",
    "    \n",
    "    def split_transform(self , T ):\n",
    "        rotate = T[:3,:3]\n",
    "        origin = T[:3, 3]\n",
    "        return rotate , origin\n",
    "    \n",
    "    def build_transform(self ,rotate , origin ):\n",
    "        T = np.pad(rotate, (0, 1), 'constant', constant_values=(0))\n",
    "        T[0][3] ,T[1][3],T[2][3] = origin[0],origin[1],origin[2]\n",
    "        T[3][3] = 1\n",
    "        return T\n",
    "                    \n",
    "    def EularParameter_e4(R):\n",
    "        e4 = 0.5*(1+ R[0,0] +R[1,1] +R[2,2] )** 0.5\n",
    "    \n",
    "        e1 = (R[3-1,2-1] - R[2-1,3-1])/(4*e4)\n",
    "        e2 = (R[2-1,1-1] - R[1-1,2-1])/(4*e4)\n",
    "        e3 = (R[1-1,3-1] - R[3-1,1-1])/(4*e4)\n",
    "    \n",
    "        return (e1,e2,e3,e4)\n",
    "                    \n",
    "        "
   ]
  },
  {
   "cell_type": "markdown",
   "metadata": {},
   "source": [
    "Q1  A frame {B} and a frame {A} are initially coincident. Frame {B} is rotated about ˆ YB by\n",
    "an angle \u0012, and then rotated about the new ˆ ZB by an angle \u001e",
    ". Determine the 3 × 3 rotation\n",
    "matrix, A\n",
    "BR, which will transform the coordinates of a position vector from BP, its value in\n",
    "frame {B}, into AP, its value in frame {A}."
   ]
  },
  {
   "cell_type": "code",
   "execution_count": 3,
   "metadata": {},
   "outputs": [],
   "source": [
    "rot = helper()"
   ]
  },
  {
   "cell_type": "code",
   "execution_count": 4,
   "metadata": {},
   "outputs": [],
   "source": [
    "theta = 30\n",
    "theta = math.radians(theta) \n",
    "phi = 45\n",
    "phi = math.radians(phi) \n",
    "def ques(theta,phi):\n",
    "    ans1 = np.dot(rot.rotate_y(theta) , rot.rotate_z(phi) )\n",
    "    return ans1"
   ]
  },
  {
   "cell_type": "markdown",
   "metadata": {},
   "source": [
    "2. We are given a single frame {A} and a position vector AP described in this frame. We then\n",
    "transform AP by first rotating it about ˆ ZA by an angle \u001e",
    ", then rotating about ˆ YA by an angle\n",
    "\u0012. Determine the 3×3 rotation matrix operator, R(\u001e",
    ", \u0012), which describes this transformation."
   ]
  },
  {
   "cell_type": "code",
   "execution_count": 5,
   "metadata": {},
   "outputs": [],
   "source": [
    "# theta = int(input(\"enter a angle in  degree \"))\n",
    "theta = 30\n",
    "theta = math.radians(theta) \n",
    "# phi = int(input(\"enter a angle in  degree \"))\n",
    "phi = 45\n",
    "phi = math.radians(phi) \n",
    "def ques(theta,phi):\n",
    "    ans2 = np.dot(rot.rotate_z(theta) , rot.rotate_y(phi) )\n",
    "    return ans2"
   ]
  },
  {
   "cell_type": "markdown",
   "metadata": {},
   "source": [
    "Q3 (a) Given a transformation matrix:\n",
    "BTA =\n",
    "\n",
    "    [ 1    0            0             1   ]\n",
    "    [ 0    cos(theta)   −sin(theta)   2   ]\n",
    "    [ 0    sin(theta)   cos(theta)    3   ]\n",
    "    [ 0    0            0             1   ]\n",
    "\n",
    "Find ATB"
   ]
  },
  {
   "cell_type": "code",
   "execution_count": 6,
   "metadata": {},
   "outputs": [
    {
     "name": "stdout",
     "output_type": "stream",
     "text": [
      "[[ 1.          0.          0.         -1.        ]\n",
      " [ 0.          0.8660254   0.5        -3.23205081]\n",
      " [ 0.         -0.5         0.8660254  -1.59807621]\n",
      " [ 0.          0.          0.          1.        ]]\n"
     ]
    }
   ],
   "source": [
    "theta = 30\n",
    "theta = math.radians(theta)\n",
    "def matrix(theta ):\n",
    "    BTA = np.array([\n",
    "    [ 1,    0,                 0,                  1   ],\n",
    "    [ 0,    math.cos(theta),   -math.sin(theta),   2   ],\n",
    "    [ 0,    math.sin(theta),   math.cos(theta),    3   ],\n",
    "    [ 0,    0,                 0,                  1   ]\n",
    "    ])\n",
    "    return BTA\n",
    "\n",
    "def ques3A( BTA ):\n",
    "    \n",
    "    rotate , origin = rot.split_transform(BTA)\n",
    "#     print(rotate,origin)\n",
    "#     new_rotate = np.linalg.inv(rotate)\n",
    "    new_rotate = rotate.T\n",
    "    new_origin = -1* np.dot( new_rotate , origin )\n",
    "#     print(new_origin)\n",
    "    ATB = rot.build_transform(new_rotate ,new_origin )\n",
    "    return ATB\n",
    "BTA = matrix(theta)   \n",
    "print(ques3A(BTA))"
   ]
  },
  {
   "cell_type": "markdown",
   "metadata": {},
   "source": [
    "Q3 B Given theta = 45◦ and BP = [ 4 5 6 ].T \n",
    " compute AP"
   ]
  },
  {
   "cell_type": "code",
   "execution_count": 7,
   "metadata": {},
   "outputs": [
    {
     "data": {
      "text/plain": [
       "array([[3.        ],\n",
       "       [4.24264069],\n",
       "       [0.        ],\n",
       "       [1.        ]])"
      ]
     },
     "execution_count": 7,
     "metadata": {},
     "output_type": "execute_result"
    }
   ],
   "source": [
    "theta = 45 \n",
    "theta = math.radians(theta)\n",
    "BP = np.array([ 4, 5, 6 ]).reshape(3,1)\n",
    "\n",
    "def ques3B(theta ,BP):\n",
    "    if np.shape(BP)[0] == 3 :\n",
    "        l = list(BP.reshape(3,))\n",
    "        l.append(1)\n",
    "        BP = np.array(l).reshape(4,1)\n",
    "    BTA = matrix(theta)\n",
    "    ATB = ques3A(BTA )\n",
    "    return np.dot( ATB , BP)\n",
    "\n",
    "ques3B(theta,BP)\n",
    "# print(ques3B(theta,BP))"
   ]
  },
  {
   "cell_type": "code",
   "execution_count": 8,
   "metadata": {},
   "outputs": [
    {
     "name": "stdout",
     "output_type": "stream",
     "text": [
      "[4, 5, 6]\n"
     ]
    }
   ],
   "source": [
    "BP = np.array([ 4, 5, 6 ]).T\n",
    "print(list(BP))"
   ]
  },
  {
   "cell_type": "code",
   "execution_count": 9,
   "metadata": {},
   "outputs": [
    {
     "data": {
      "text/plain": [
       "3.0"
      ]
     },
     "execution_count": 9,
     "metadata": {},
     "output_type": "execute_result"
    }
   ],
   "source": [
    "BTA[2][3]"
   ]
  },
  {
   "cell_type": "code",
   "execution_count": 10,
   "metadata": {},
   "outputs": [
    {
     "data": {
      "text/plain": [
       "array([[ 1.       ,  0.       ,  0.       ,  1.       ,  0.       ],\n",
       "       [ 0.       ,  0.8660254, -0.5      ,  2.       ,  0.       ],\n",
       "       [ 0.       ,  0.5      ,  0.8660254,  3.       ,  0.       ],\n",
       "       [ 0.       ,  0.       ,  0.       ,  1.       ,  0.       ],\n",
       "       [ 0.       ,  0.       ,  0.       ,  0.       ,  0.       ]])"
      ]
     },
     "execution_count": 10,
     "metadata": {},
     "output_type": "execute_result"
    }
   ],
   "source": [
    "BTA\n",
    "np.pad(BTA, (0, 1), 'constant', constant_values=(0))"
   ]
  },
  {
   "cell_type": "markdown",
   "metadata": {},
   "source": [
    "Given the following 3 × 3 matrix: \n",
    "\n",
    "    R = [ 1/√2  0      1/√2 ]\n",
    "        [ -1/2  1/√2   1/2  ]\n",
    "        [-1/2   -1/√2  1/2  ] \n",
    "        \n",
    "        \n",
    "      Show that it is a rotation matrix.\n"
   ]
  },
  {
   "cell_type": "code",
   "execution_count": 11,
   "metadata": {},
   "outputs": [],
   "source": [
    "def Ques4A(R):\n",
    "    arr = np.dot(R,R.T)\n",
    "    return (np.round(arr, 3) == np.identity(3, dtype = float)).all() "
   ]
  },
  {
   "cell_type": "code",
   "execution_count": 12,
   "metadata": {},
   "outputs": [],
   "source": [
    "R =  np.array([ [ 1/(2**0.5)  ,   0         ,  1/(2**0.5)   ] ,\n",
    "                [ -1/2      ,   1/(2**0.5),  1/2       ],\n",
    "                [-1/2       ,  -1/(2**0.5)  ,  1/2       ] ] )"
   ]
  },
  {
   "cell_type": "code",
   "execution_count": 13,
   "metadata": {},
   "outputs": [
    {
     "name": "stdout",
     "output_type": "stream",
     "text": [
      "True\n"
     ]
    }
   ],
   "source": [
    "print(Ques4A(R))"
   ]
  },
  {
   "cell_type": "markdown",
   "metadata": {},
   "source": [
    " Q4 B  What are the Euler parameters \"1, \"2, \"3, \"4 of R?\n"
   ]
  },
  {
   "cell_type": "code",
   "execution_count": 14,
   "metadata": {},
   "outputs": [],
   "source": [
    "def ques4B(R):\n",
    "    e4 = 0.5*(1+ R[0,0] +R[1,1] +R[2,2] )** 0.5\n",
    "    \n",
    "    e1 = (R[3-1,2-1] - R[2-1,3-1])/(4*e4)\n",
    "    e2 = (R[2-1,1-1] - R[1-1,2-1])/(4*e4)\n",
    "    e3 = (R[1-1,3-1] - R[3-1,1-1])/(4*e4)\n",
    "    \n",
    "    return (e1,e2,e3,e4)\n",
    "    "
   ]
  },
  {
   "cell_type": "code",
   "execution_count": 15,
   "metadata": {},
   "outputs": [
    {
     "data": {
      "text/plain": [
       "(-0.35355339059327373,\n",
       " -0.14644660940672624,\n",
       " 0.35355339059327373,\n",
       " 0.8535533905932737)"
      ]
     },
     "execution_count": 15,
     "metadata": {},
     "output_type": "execute_result"
    }
   ],
   "source": [
    "ep = ques4B(R)\n",
    "ep"
   ]
  },
  {
   "cell_type": "markdown",
   "metadata": {},
   "source": [
    "Q 4 C Determine a unit vector that defines the axis of rotation and the angle (in degrees) of\n",
    "rotation."
   ]
  },
  {
   "cell_type": "code",
   "execution_count": 16,
   "metadata": {},
   "outputs": [],
   "source": [
    "def ques4C (e1,e2,e3,e4):\n",
    "    theta = 2* math.acos(e4)\n",
    "    wx = e1/ math.sin(theta/2)\n",
    "    wy = e2/ math.sin(theta/2)\n",
    "    wz = e3/ math.sin(theta/2)\n",
    "    vector = np.array( [ wx, wy, wz])\n",
    "    return vector ,math.degrees(theta)"
   ]
  },
  {
   "cell_type": "code",
   "execution_count": 17,
   "metadata": {},
   "outputs": [
    {
     "name": "stdout",
     "output_type": "stream",
     "text": [
      "[-0.67859834 -0.28108464  0.67859834] 62.799429619838094\n"
     ]
    }
   ],
   "source": [
    "vector , theta = ques4C(ep[0],ep[1],ep[2],ep[3])\n",
    "print(vector, theta)"
   ]
  }
 ],
 "metadata": {
  "kernelspec": {
   "display_name": "Python 3",
   "language": "python",
   "name": "python3"
  },
  "language_info": {
   "codemirror_mode": {
    "name": "ipython",
    "version": 3
   },
   "file_extension": ".py",
   "mimetype": "text/x-python",
   "name": "python",
   "nbconvert_exporter": "python",
   "pygments_lexer": "ipython3",
   "version": "3.8.0"
  }
 },
 "nbformat": 4,
 "nbformat_minor": 4
}
