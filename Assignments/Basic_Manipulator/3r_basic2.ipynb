{
 "cells": [
  {
   "cell_type": "code",
   "execution_count": 1,
   "metadata": {},
   "outputs": [],
   "source": [
    "#Problem Statement : Derive Forward Kinematics for #R non planer Manipulator\n",
    "#position of end Effector and  joints , Jw , Jv are express in frame 0"
   ]
  },
  {
   "cell_type": "code",
   "execution_count": 2,
   "metadata": {},
   "outputs": [],
   "source": [
    "import numpy as np \n",
    "import math as m\n",
    "import sympy  as sy"
   ]
  },
  {
   "cell_type": "markdown",
   "metadata": {},
   "source": [
    "# Helper Function"
   ]
  },
  {
   "cell_type": "code",
   "execution_count": 3,
   "metadata": {},
   "outputs": [],
   "source": [
    "class helper():\n",
    "    def __init__ (self):\n",
    "        self.id = 0\n",
    "    @staticmethod\n",
    "    def transform( lst ):\n",
    "        a ,alpha, d , theta = lst[0],lst[1],lst[2],lst[3]\n",
    "        alpha , theta = m.radians(alpha) , m.radians(theta)\n",
    "        T = np.array ([ [ m.cos(theta)              , -1*m.sin(theta)           ,      0          ,    a              ],\n",
    "                        [ m.sin(theta)*m.cos(alpha) , m.cos(theta)*m.cos(alpha) , -1*m.sin(alpha) , -1*m.sin(alpha)*d ],\n",
    "                        [ m.sin(theta)*m.sin(alpha) , m.cos(theta)*m.sin(alpha) ,    m.cos(alpha) ,    m.cos(alpha)*d ],\n",
    "                        [ 0                         , 0                         ,    0            ,  1                ]])\n",
    "        return np.round(T, 3)\n",
    "    \n",
    "    @staticmethod \n",
    "    def sym_transform(lst):\n",
    "        a ,alpha, d , theta = lst[0],lst[1],lst[2],lst[3]\n",
    "        alpha , theta = m.radians(alpha) , m.radians(theta)\n",
    "        T = sy.Matrix([ [ sy.cos(theta)              , -1*sy.sin(theta)           ,      0          ,    a              ],\n",
    "                        [ sy.sin(theta)*sy.cos(alpha) , sy.cos(theta)*sy.cos(alpha) , -1*sy.sin(alpha) , -1*sy.sin(alpha)*d ],\n",
    "                        [ sy.sin(theta)*sy.sin(alpha) , sy.cos(theta)*sy.sin(alpha) ,    sy.cos(alpha) ,    sy.cos(alpha)*d ],\n",
    "                        [ 0                         , 0                         ,    0            ,  1                ]])\n",
    "        return T\n",
    "        \n",
    "    @staticmethod \n",
    "    def sym_transform(a ,alpha, d , theta):\n",
    "       \n",
    "#         alpha , theta = m.radians(alpha) , m.radians(theta)\n",
    "        T = sy.Matrix([ [ sy.cos(theta)              , -1*sy.sin(theta)           ,      0          ,    a              ],\n",
    "                        [ sy.sin(theta)*sy.cos(alpha) , sy.cos(theta)*sy.cos(alpha) , -1*sy.sin(alpha) , -1*sy.sin(alpha)*d ],\n",
    "                        [ sy.sin(theta)*sy.sin(alpha) , sy.cos(theta)*sy.sin(alpha) ,    sy.cos(alpha) ,    sy.cos(alpha)*d ],\n",
    "                        [ 0                         , 0                         ,    0            ,  1                ]])\n",
    "        return T\n",
    "        "
   ]
  },
  {
   "cell_type": "markdown",
   "metadata": {},
   "source": [
    "# Declering the symbols for joints and link lengths"
   ]
  },
  {
   "cell_type": "code",
   "execution_count": 4,
   "metadata": {},
   "outputs": [],
   "source": [
    "theta1 = sy.Symbol('theta1')\n",
    "theta2 = sy.Symbol('theta2')\n",
    "theta3 = sy.Symbol('theta3')"
   ]
  },
  {
   "cell_type": "code",
   "execution_count": 5,
   "metadata": {},
   "outputs": [],
   "source": [
    "t1_dot = sy.Symbol('thetadot1')\n",
    "t2_dot = sy.Symbol('thetadot2')\n",
    "t3_dot = sy.Symbol('thetadot3')\n",
    "\n",
    "t1_d_d = sy.Symbol('thetadotdot1')\n",
    "t2_d_d = sy.Symbol('thetadotdot2')\n",
    "t3_d_d = sy.Symbol('thetadotdot3')"
   ]
  },
  {
   "cell_type": "code",
   "execution_count": 6,
   "metadata": {},
   "outputs": [],
   "source": [
    "Length_link_1 = sy.Symbol('L1')\n",
    "Length_link_2 = sy.Symbol('L2')\n",
    "Length_link_3 = sy.Symbol('L3')"
   ]
  },
  {
   "cell_type": "code",
   "execution_count": 7,
   "metadata": {},
   "outputs": [],
   "source": [
    "mass = sy.symbols('m')\n",
    "h = sy.symbols('h') # width of  link\n",
    "g = sy.symbols('g')"
   ]
  },
  {
   "cell_type": "markdown",
   "metadata": {},
   "source": [
    "#  Delcering the D_H parameter Matrix  (Useless)"
   ]
  },
  {
   "cell_type": "code",
   "execution_count": 8,
   "metadata": {},
   "outputs": [],
   "source": [
    "D_H_parametrs = sy.Matrix([[0,0,0,theta1],[Length_link_1,-90,0,theta2],[Length_link_2,-90,0,theta3] , [Length_link_3,0,0,0]])"
   ]
  },
  {
   "cell_type": "markdown",
   "metadata": {},
   "source": [
    "# Calculating the transformation Matrix "
   ]
  },
  {
   "cell_type": "code",
   "execution_count": 9,
   "metadata": {},
   "outputs": [
    {
     "data": {
      "text/latex": [
       "$\\displaystyle \\left[\\begin{matrix}\\cos{\\left(\\theta_{1} \\right)} & - \\sin{\\left(\\theta_{1} \\right)} & 0 & 0\\\\\\sin{\\left(\\theta_{1} \\right)} & \\cos{\\left(\\theta_{1} \\right)} & 0 & 0\\\\0 & 0 & 1 & 0\\\\0 & 0 & 0 & 1\\end{matrix}\\right]$"
      ],
      "text/plain": [
       "Matrix([\n",
       "[cos(theta1), -sin(theta1), 0, 0],\n",
       "[sin(theta1),  cos(theta1), 0, 0],\n",
       "[          0,            0, 1, 0],\n",
       "[          0,            0, 0, 1]])"
      ]
     },
     "execution_count": 9,
     "metadata": {},
     "output_type": "execute_result"
    }
   ],
   "source": [
    "# from fame 0 to 1\n",
    "T01 = helper.sym_transform(0,0,0,theta1)\n",
    "T01"
   ]
  },
  {
   "cell_type": "code",
   "execution_count": 10,
   "metadata": {},
   "outputs": [
    {
     "data": {
      "text/latex": [
       "$\\displaystyle \\left[\\begin{matrix}\\cos{\\left(\\theta_{2} \\right)} & - \\sin{\\left(\\theta_{2} \\right)} & 0 & L_{1}\\\\0 & 0 & 1.0 & 0\\\\- \\sin{\\left(\\theta_{2} \\right)} & - \\cos{\\left(\\theta_{2} \\right)} & 0 & 0\\\\0 & 0 & 0 & 1.0\\end{matrix}\\right]$"
      ],
      "text/plain": [
       "Matrix([\n",
       "[ cos(theta2), -sin(theta2),   0,  L1],\n",
       "[           0,            0, 1.0,   0],\n",
       "[-sin(theta2), -cos(theta2),   0,   0],\n",
       "[           0,            0,   0, 1.0]])"
      ]
     },
     "execution_count": 10,
     "metadata": {},
     "output_type": "execute_result"
    }
   ],
   "source": [
    "# from fame 1 to 2\n",
    "T12 = helper.sym_transform(Length_link_1,-sy.pi/2,0,theta2).evalf()\n",
    "T12"
   ]
  },
  {
   "cell_type": "code",
   "execution_count": 11,
   "metadata": {},
   "outputs": [
    {
     "data": {
      "text/latex": [
       "$\\displaystyle \\left[\\begin{matrix}\\cos{\\left(\\theta_{1} \\right)} \\cos{\\left(\\theta_{2} \\right)} & - \\sin{\\left(\\theta_{2} \\right)} \\cos{\\left(\\theta_{1} \\right)} & - 1.0 \\sin{\\left(\\theta_{1} \\right)} & L_{1} \\cos{\\left(\\theta_{1} \\right)}\\\\\\sin{\\left(\\theta_{1} \\right)} \\cos{\\left(\\theta_{2} \\right)} & - \\sin{\\left(\\theta_{1} \\right)} \\sin{\\left(\\theta_{2} \\right)} & 1.0 \\cos{\\left(\\theta_{1} \\right)} & L_{1} \\sin{\\left(\\theta_{1} \\right)}\\\\- \\sin{\\left(\\theta_{2} \\right)} & - \\cos{\\left(\\theta_{2} \\right)} & 0 & 0\\\\0 & 0 & 0 & 1.0\\end{matrix}\\right]$"
      ],
      "text/plain": [
       "Matrix([\n",
       "[cos(theta1)*cos(theta2), -sin(theta2)*cos(theta1), -1.0*sin(theta1), L1*cos(theta1)],\n",
       "[sin(theta1)*cos(theta2), -sin(theta1)*sin(theta2),  1.0*cos(theta1), L1*sin(theta1)],\n",
       "[           -sin(theta2),             -cos(theta2),                0,              0],\n",
       "[                      0,                        0,                0,            1.0]])"
      ]
     },
     "execution_count": 11,
     "metadata": {},
     "output_type": "execute_result"
    }
   ],
   "source": [
    "# from fame 0 to 2\n",
    "T02 = T01 * T12\n",
    "T02"
   ]
  },
  {
   "cell_type": "code",
   "execution_count": 12,
   "metadata": {},
   "outputs": [
    {
     "data": {
      "text/latex": [
       "$\\displaystyle \\left[\\begin{matrix}\\cos{\\left(\\theta_{3} \\right)} & - \\sin{\\left(\\theta_{3} \\right)} & 0 & L_{2}\\\\0 & 0 & 1.0 & 0\\\\- \\sin{\\left(\\theta_{3} \\right)} & - \\cos{\\left(\\theta_{3} \\right)} & 0 & 0\\\\0 & 0 & 0 & 1.0\\end{matrix}\\right]$"
      ],
      "text/plain": [
       "Matrix([\n",
       "[ cos(theta3), -sin(theta3),   0,  L2],\n",
       "[           0,            0, 1.0,   0],\n",
       "[-sin(theta3), -cos(theta3),   0,   0],\n",
       "[           0,            0,   0, 1.0]])"
      ]
     },
     "execution_count": 12,
     "metadata": {},
     "output_type": "execute_result"
    }
   ],
   "source": [
    "# from fame 2 to 3\n",
    "T23 = helper.sym_transform(Length_link_2,-sy.pi/2,0,theta3).evalf()\n",
    "T23"
   ]
  },
  {
   "cell_type": "code",
   "execution_count": 13,
   "metadata": {},
   "outputs": [
    {
     "data": {
      "text/latex": [
       "$\\displaystyle \\left[\\begin{matrix}1.0 & 0 & 0 & L_{3}\\\\0 & 1.0 & 0 & 0\\\\0 & 0 & 1.0 & 0\\\\0 & 0 & 0 & 1.0\\end{matrix}\\right]$"
      ],
      "text/plain": [
       "Matrix([\n",
       "[1.0,   0,   0,  L3],\n",
       "[  0, 1.0,   0,   0],\n",
       "[  0,   0, 1.0,   0],\n",
       "[  0,   0,   0, 1.0]])"
      ]
     },
     "execution_count": 13,
     "metadata": {},
     "output_type": "execute_result"
    }
   ],
   "source": [
    "# from fame 3 to 4\n",
    "T34 = helper.sym_transform(Length_link_3,0,0,0).evalf()\n",
    "T34"
   ]
  },
  {
   "cell_type": "code",
   "execution_count": 14,
   "metadata": {},
   "outputs": [
    {
     "data": {
      "text/latex": [
       "$\\displaystyle \\left[\\begin{matrix}1.0 \\sin{\\left(\\theta_{1} \\right)} \\sin{\\left(\\theta_{3} \\right)} + \\cos{\\left(\\theta_{1} \\right)} \\cos{\\left(\\theta_{2} \\right)} \\cos{\\left(\\theta_{3} \\right)} & 1.0 \\sin{\\left(\\theta_{1} \\right)} \\cos{\\left(\\theta_{3} \\right)} - \\sin{\\left(\\theta_{3} \\right)} \\cos{\\left(\\theta_{1} \\right)} \\cos{\\left(\\theta_{2} \\right)} & - 1.0 \\sin{\\left(\\theta_{2} \\right)} \\cos{\\left(\\theta_{1} \\right)} & 1.0 L_{1} \\cos{\\left(\\theta_{1} \\right)} + L_{2} \\cos{\\left(\\theta_{1} \\right)} \\cos{\\left(\\theta_{2} \\right)}\\\\\\sin{\\left(\\theta_{1} \\right)} \\cos{\\left(\\theta_{2} \\right)} \\cos{\\left(\\theta_{3} \\right)} - 1.0 \\sin{\\left(\\theta_{3} \\right)} \\cos{\\left(\\theta_{1} \\right)} & - \\sin{\\left(\\theta_{1} \\right)} \\sin{\\left(\\theta_{3} \\right)} \\cos{\\left(\\theta_{2} \\right)} - 1.0 \\cos{\\left(\\theta_{1} \\right)} \\cos{\\left(\\theta_{3} \\right)} & - 1.0 \\sin{\\left(\\theta_{1} \\right)} \\sin{\\left(\\theta_{2} \\right)} & 1.0 L_{1} \\sin{\\left(\\theta_{1} \\right)} + L_{2} \\sin{\\left(\\theta_{1} \\right)} \\cos{\\left(\\theta_{2} \\right)}\\\\- \\sin{\\left(\\theta_{2} \\right)} \\cos{\\left(\\theta_{3} \\right)} & \\sin{\\left(\\theta_{2} \\right)} \\sin{\\left(\\theta_{3} \\right)} & - 1.0 \\cos{\\left(\\theta_{2} \\right)} & - L_{2} \\sin{\\left(\\theta_{2} \\right)}\\\\0 & 0 & 0 & 1.0\\end{matrix}\\right]$"
      ],
      "text/plain": [
       "Matrix([\n",
       "[1.0*sin(theta1)*sin(theta3) + cos(theta1)*cos(theta2)*cos(theta3),  1.0*sin(theta1)*cos(theta3) - sin(theta3)*cos(theta1)*cos(theta2), -1.0*sin(theta2)*cos(theta1), 1.0*L1*cos(theta1) + L2*cos(theta1)*cos(theta2)],\n",
       "[sin(theta1)*cos(theta2)*cos(theta3) - 1.0*sin(theta3)*cos(theta1), -sin(theta1)*sin(theta3)*cos(theta2) - 1.0*cos(theta1)*cos(theta3), -1.0*sin(theta1)*sin(theta2), 1.0*L1*sin(theta1) + L2*sin(theta1)*cos(theta2)],\n",
       "[                                         -sin(theta2)*cos(theta3),                                            sin(theta2)*sin(theta3),             -1.0*cos(theta2),                                 -L2*sin(theta2)],\n",
       "[                                                                0,                                                                  0,                            0,                                             1.0]])"
      ]
     },
     "execution_count": 14,
     "metadata": {},
     "output_type": "execute_result"
    }
   ],
   "source": [
    "# from fame 0 to 3\n",
    "T03 = T02*T23\n",
    "T03"
   ]
  },
  {
   "cell_type": "code",
   "execution_count": 15,
   "metadata": {},
   "outputs": [
    {
     "data": {
      "text/latex": [
       "$\\displaystyle \\left[\\begin{matrix}1.0 \\sin{\\left(\\theta_{1} \\right)} \\sin{\\left(\\theta_{3} \\right)} + 1.0 \\cos{\\left(\\theta_{1} \\right)} \\cos{\\left(\\theta_{2} \\right)} \\cos{\\left(\\theta_{3} \\right)} & 1.0 \\sin{\\left(\\theta_{1} \\right)} \\cos{\\left(\\theta_{3} \\right)} - 1.0 \\sin{\\left(\\theta_{3} \\right)} \\cos{\\left(\\theta_{1} \\right)} \\cos{\\left(\\theta_{2} \\right)} & - 1.0 \\sin{\\left(\\theta_{2} \\right)} \\cos{\\left(\\theta_{1} \\right)} & 1.0 L_{1} \\cos{\\left(\\theta_{1} \\right)} + 1.0 L_{2} \\cos{\\left(\\theta_{1} \\right)} \\cos{\\left(\\theta_{2} \\right)} + L_{3} \\left(1.0 \\sin{\\left(\\theta_{1} \\right)} \\sin{\\left(\\theta_{3} \\right)} + \\cos{\\left(\\theta_{1} \\right)} \\cos{\\left(\\theta_{2} \\right)} \\cos{\\left(\\theta_{3} \\right)}\\right)\\\\1.0 \\sin{\\left(\\theta_{1} \\right)} \\cos{\\left(\\theta_{2} \\right)} \\cos{\\left(\\theta_{3} \\right)} - 1.0 \\sin{\\left(\\theta_{3} \\right)} \\cos{\\left(\\theta_{1} \\right)} & - 1.0 \\sin{\\left(\\theta_{1} \\right)} \\sin{\\left(\\theta_{3} \\right)} \\cos{\\left(\\theta_{2} \\right)} - 1.0 \\cos{\\left(\\theta_{1} \\right)} \\cos{\\left(\\theta_{3} \\right)} & - 1.0 \\sin{\\left(\\theta_{1} \\right)} \\sin{\\left(\\theta_{2} \\right)} & 1.0 L_{1} \\sin{\\left(\\theta_{1} \\right)} + 1.0 L_{2} \\sin{\\left(\\theta_{1} \\right)} \\cos{\\left(\\theta_{2} \\right)} + L_{3} \\left(\\sin{\\left(\\theta_{1} \\right)} \\cos{\\left(\\theta_{2} \\right)} \\cos{\\left(\\theta_{3} \\right)} - 1.0 \\sin{\\left(\\theta_{3} \\right)} \\cos{\\left(\\theta_{1} \\right)}\\right)\\\\- 1.0 \\sin{\\left(\\theta_{2} \\right)} \\cos{\\left(\\theta_{3} \\right)} & 1.0 \\sin{\\left(\\theta_{2} \\right)} \\sin{\\left(\\theta_{3} \\right)} & - 1.0 \\cos{\\left(\\theta_{2} \\right)} & - 1.0 L_{2} \\sin{\\left(\\theta_{2} \\right)} - L_{3} \\sin{\\left(\\theta_{2} \\right)} \\cos{\\left(\\theta_{3} \\right)}\\\\0 & 0 & 0 & 1.0\\end{matrix}\\right]$"
      ],
      "text/plain": [
       "Matrix([\n",
       "[1.0*sin(theta1)*sin(theta3) + 1.0*cos(theta1)*cos(theta2)*cos(theta3),  1.0*sin(theta1)*cos(theta3) - 1.0*sin(theta3)*cos(theta1)*cos(theta2), -1.0*sin(theta2)*cos(theta1), 1.0*L1*cos(theta1) + 1.0*L2*cos(theta1)*cos(theta2) + L3*(1.0*sin(theta1)*sin(theta3) + cos(theta1)*cos(theta2)*cos(theta3))],\n",
       "[1.0*sin(theta1)*cos(theta2)*cos(theta3) - 1.0*sin(theta3)*cos(theta1), -1.0*sin(theta1)*sin(theta3)*cos(theta2) - 1.0*cos(theta1)*cos(theta3), -1.0*sin(theta1)*sin(theta2), 1.0*L1*sin(theta1) + 1.0*L2*sin(theta1)*cos(theta2) + L3*(sin(theta1)*cos(theta2)*cos(theta3) - 1.0*sin(theta3)*cos(theta1))],\n",
       "[                                         -1.0*sin(theta2)*cos(theta3),                                            1.0*sin(theta2)*sin(theta3),             -1.0*cos(theta2),                                                                             -1.0*L2*sin(theta2) - L3*sin(theta2)*cos(theta3)],\n",
       "[                                                                    0,                                                                      0,                            0,                                                                                                                          1.0]])"
      ]
     },
     "execution_count": 15,
     "metadata": {},
     "output_type": "execute_result"
    }
   ],
   "source": [
    "# from fame 0 to 4\n",
    "T04 = T03*T34\n",
    "T04"
   ]
  },
  {
   "cell_type": "markdown",
   "metadata": {},
   "source": [
    "# Caalculating the positions for end effector  and joints"
   ]
  },
  {
   "cell_type": "code",
   "execution_count": 16,
   "metadata": {},
   "outputs": [],
   "source": [
    "position_end_effector = T04[:3,3]\n",
    "position_joint_3 = T03[:3,3]\n",
    "position_joint_2 = T02[:3,3]\n",
    "position_joint_1 = T01[:3,3]"
   ]
  },
  {
   "cell_type": "markdown",
   "metadata": {},
   "source": [
    "# Initial Position Of End Effector"
   ]
  },
  {
   "cell_type": "code",
   "execution_count": 17,
   "metadata": {},
   "outputs": [
    {
     "data": {
      "text/latex": [
       "$\\displaystyle \\left[\\begin{matrix}2.0613640598376\\\\1.06051920354382\\\\-1.20682502257128\\end{matrix}\\right]$"
      ],
      "text/plain": [
       "Matrix([\n",
       "[  2.0613640598376],\n",
       "[ 1.06051920354382],\n",
       "[-1.20682502257128]])"
      ]
     },
     "execution_count": 17,
     "metadata": {},
     "output_type": "execute_result"
    }
   ],
   "source": [
    "position_end_effector.subs({ Length_link_1:1,Length_link_2:1 ,Length_link_3:1,theta1:0.785,theta2:0.785,theta3:0.785 })"
   ]
  },
  {
   "cell_type": "markdown",
   "metadata": {},
   "source": [
    "# Position of End Effector In terms of Variables"
   ]
  },
  {
   "cell_type": "code",
   "execution_count": 18,
   "metadata": {},
   "outputs": [
    {
     "data": {
      "text/latex": [
       "$\\displaystyle \\left[\\begin{matrix}1.0 L_{1} \\cos{\\left(\\theta_{1} \\right)} + 1.0 L_{2} \\cos{\\left(\\theta_{1} \\right)} \\cos{\\left(\\theta_{2} \\right)} + L_{3} \\left(1.0 \\sin{\\left(\\theta_{1} \\right)} \\sin{\\left(\\theta_{3} \\right)} + \\cos{\\left(\\theta_{1} \\right)} \\cos{\\left(\\theta_{2} \\right)} \\cos{\\left(\\theta_{3} \\right)}\\right)\\\\1.0 L_{1} \\sin{\\left(\\theta_{1} \\right)} + 1.0 L_{2} \\sin{\\left(\\theta_{1} \\right)} \\cos{\\left(\\theta_{2} \\right)} + L_{3} \\left(\\sin{\\left(\\theta_{1} \\right)} \\cos{\\left(\\theta_{2} \\right)} \\cos{\\left(\\theta_{3} \\right)} - 1.0 \\sin{\\left(\\theta_{3} \\right)} \\cos{\\left(\\theta_{1} \\right)}\\right)\\\\- 1.0 L_{2} \\sin{\\left(\\theta_{2} \\right)} - L_{3} \\sin{\\left(\\theta_{2} \\right)} \\cos{\\left(\\theta_{3} \\right)}\\end{matrix}\\right]$"
      ],
      "text/plain": [
       "Matrix([\n",
       "[1.0*L1*cos(theta1) + 1.0*L2*cos(theta1)*cos(theta2) + L3*(1.0*sin(theta1)*sin(theta3) + cos(theta1)*cos(theta2)*cos(theta3))],\n",
       "[1.0*L1*sin(theta1) + 1.0*L2*sin(theta1)*cos(theta2) + L3*(sin(theta1)*cos(theta2)*cos(theta3) - 1.0*sin(theta3)*cos(theta1))],\n",
       "[                                                                            -1.0*L2*sin(theta2) - L3*sin(theta2)*cos(theta3)]])"
      ]
     },
     "execution_count": 18,
     "metadata": {},
     "output_type": "execute_result"
    }
   ],
   "source": [
    "T04[:3,3]"
   ]
  },
  {
   "cell_type": "markdown",
   "metadata": {},
   "source": [
    "# Jacobian Matrix for Angular motion of End effector in frame 0"
   ]
  },
  {
   "cell_type": "code",
   "execution_count": 19,
   "metadata": {},
   "outputs": [
    {
     "data": {
      "text/latex": [
       "$\\displaystyle \\left[\\begin{matrix}- 1.0 \\sin{\\left(\\theta_{1} \\right)} & 1.0 \\cos{\\left(\\theta_{1} \\right)} & 0\\\\- 1.0 \\sin{\\left(\\theta_{2} \\right)} \\cos{\\left(\\theta_{1} \\right)} & - 1.0 \\sin{\\left(\\theta_{1} \\right)} \\sin{\\left(\\theta_{2} \\right)} & - 1.0 \\cos{\\left(\\theta_{2} \\right)}\\\\- 1.0 \\sin{\\left(\\theta_{2} \\right)} \\cos{\\left(\\theta_{1} \\right)} & - 1.0 \\sin{\\left(\\theta_{1} \\right)} \\sin{\\left(\\theta_{2} \\right)} & - 1.0 \\cos{\\left(\\theta_{2} \\right)}\\end{matrix}\\right]$"
      ],
      "text/plain": [
       "Matrix([\n",
       "[            -1.0*sin(theta1),              1.0*cos(theta1),                0],\n",
       "[-1.0*sin(theta2)*cos(theta1), -1.0*sin(theta1)*sin(theta2), -1.0*cos(theta2)],\n",
       "[-1.0*sin(theta2)*cos(theta1), -1.0*sin(theta1)*sin(theta2), -1.0*cos(theta2)]])"
      ]
     },
     "execution_count": 19,
     "metadata": {},
     "output_type": "execute_result"
    }
   ],
   "source": [
    "Jw = sy.Matrix([ list(T02[:3,2]) , list(T03[:3,2]) , list(T04[:3,2]) ])\n",
    "Jw "
   ]
  },
  {
   "cell_type": "markdown",
   "metadata": {},
   "source": [
    "# Jacobian Matrix for Linear motion of End effector in frame 0"
   ]
  },
  {
   "cell_type": "code",
   "execution_count": 20,
   "metadata": {},
   "outputs": [
    {
     "data": {
      "text/latex": [
       "$\\displaystyle \\left[\\begin{matrix}- 1.0 L_{1} \\sin{\\left(\\theta_{1} \\right)} - 1.0 L_{2} \\sin{\\left(\\theta_{1} \\right)} \\cos{\\left(\\theta_{2} \\right)} + L_{3} \\left(- \\sin{\\left(\\theta_{1} \\right)} \\cos{\\left(\\theta_{2} \\right)} \\cos{\\left(\\theta_{3} \\right)} + 1.0 \\sin{\\left(\\theta_{3} \\right)} \\cos{\\left(\\theta_{1} \\right)}\\right) & 1.0 L_{1} \\cos{\\left(\\theta_{1} \\right)} + 1.0 L_{2} \\cos{\\left(\\theta_{1} \\right)} \\cos{\\left(\\theta_{2} \\right)} + L_{3} \\left(1.0 \\sin{\\left(\\theta_{1} \\right)} \\sin{\\left(\\theta_{3} \\right)} + \\cos{\\left(\\theta_{1} \\right)} \\cos{\\left(\\theta_{2} \\right)} \\cos{\\left(\\theta_{3} \\right)}\\right) & 0\\\\- 1.0 L_{2} \\sin{\\left(\\theta_{2} \\right)} \\cos{\\left(\\theta_{1} \\right)} - L_{3} \\sin{\\left(\\theta_{2} \\right)} \\cos{\\left(\\theta_{1} \\right)} \\cos{\\left(\\theta_{3} \\right)} & - 1.0 L_{2} \\sin{\\left(\\theta_{1} \\right)} \\sin{\\left(\\theta_{2} \\right)} - L_{3} \\sin{\\left(\\theta_{1} \\right)} \\sin{\\left(\\theta_{2} \\right)} \\cos{\\left(\\theta_{3} \\right)} & - 1.0 L_{2} \\cos{\\left(\\theta_{2} \\right)} - L_{3} \\cos{\\left(\\theta_{2} \\right)} \\cos{\\left(\\theta_{3} \\right)}\\\\L_{3} \\left(1.0 \\sin{\\left(\\theta_{1} \\right)} \\cos{\\left(\\theta_{3} \\right)} - \\sin{\\left(\\theta_{3} \\right)} \\cos{\\left(\\theta_{1} \\right)} \\cos{\\left(\\theta_{2} \\right)}\\right) & L_{3} \\left(- \\sin{\\left(\\theta_{1} \\right)} \\sin{\\left(\\theta_{3} \\right)} \\cos{\\left(\\theta_{2} \\right)} - 1.0 \\cos{\\left(\\theta_{1} \\right)} \\cos{\\left(\\theta_{3} \\right)}\\right) & L_{3} \\sin{\\left(\\theta_{2} \\right)} \\sin{\\left(\\theta_{3} \\right)}\\end{matrix}\\right]$"
      ],
      "text/plain": [
       "Matrix([\n",
       "[-1.0*L1*sin(theta1) - 1.0*L2*sin(theta1)*cos(theta2) + L3*(-sin(theta1)*cos(theta2)*cos(theta3) + 1.0*sin(theta3)*cos(theta1)), 1.0*L1*cos(theta1) + 1.0*L2*cos(theta1)*cos(theta2) + L3*(1.0*sin(theta1)*sin(theta3) + cos(theta1)*cos(theta2)*cos(theta3)),                                                0],\n",
       "[                                                      -1.0*L2*sin(theta2)*cos(theta1) - L3*sin(theta2)*cos(theta1)*cos(theta3),                                                     -1.0*L2*sin(theta1)*sin(theta2) - L3*sin(theta1)*sin(theta2)*cos(theta3), -1.0*L2*cos(theta2) - L3*cos(theta2)*cos(theta3)],\n",
       "[                                                        L3*(1.0*sin(theta1)*cos(theta3) - sin(theta3)*cos(theta1)*cos(theta2)),                                                      L3*(-sin(theta1)*sin(theta3)*cos(theta2) - 1.0*cos(theta1)*cos(theta3)),                       L3*sin(theta2)*sin(theta3)]])"
      ]
     },
     "execution_count": 20,
     "metadata": {},
     "output_type": "execute_result"
    }
   ],
   "source": [
    "Jv = sy.Matrix([ list(sy.diff(T04[:3,3],theta1)) , list(sy.diff(T04[:3,3],theta2)) , list(sy.diff(T04[:3,3],theta3)) ])\n",
    "Jv"
   ]
  },
  {
   "cell_type": "code",
   "execution_count": 21,
   "metadata": {},
   "outputs": [
    {
     "name": "stdout",
     "output_type": "stream",
     "text": [
      "-1.0*L2*sin(theta2) - L3*sin(theta2)*cos(theta3)\n"
     ]
    }
   ],
   "source": [
    "print(position_end_effector[2])"
   ]
  },
  {
   "cell_type": "code",
   "execution_count": null,
   "metadata": {},
   "outputs": [],
   "source": []
  },
  {
   "cell_type": "code",
   "execution_count": null,
   "metadata": {},
   "outputs": [],
   "source": []
  },
  {
   "cell_type": "code",
   "execution_count": null,
   "metadata": {},
   "outputs": [],
   "source": []
  },
  {
   "cell_type": "markdown",
   "metadata": {},
   "source": [
    "# Dynamics "
   ]
  },
  {
   "cell_type": "markdown",
   "metadata": {},
   "source": [
    "for study of dynamics\n"
   ]
  },
  {
   "cell_type": "code",
   "execution_count": 22,
   "metadata": {},
   "outputs": [],
   "source": [
    "T0c1 = helper.sym_transform(Length_link_1/2,0,0,theta1).evalf()\n",
    "T2c2 =  helper.sym_transform(Length_link_2/2 , 0,0,0).evalf()\n",
    "T0c2 = T02 * T2c2\n",
    "T3c3 = helper.sym_transform(Length_link_3/2 , 0,0,0).evalf()\n",
    "T0c3 = T03 * T3c3"
   ]
  },
  {
   "cell_type": "code",
   "execution_count": 23,
   "metadata": {},
   "outputs": [],
   "source": [
    "Jv1 = sy.Matrix([\n",
    "    [sy.diff(T0c1[0,-1],theta1),sy.diff(T0c1[1,-1],theta1),sy.diff(T0c1[2,-1],theta1)],\n",
    "    [0,0,0],[0,0,0]\n",
    "])\n",
    "\n",
    "Jv2 = sy.Matrix([\n",
    "    [sy.diff(T0c2[0,-1],theta1),sy.diff(T0c2[1,-1],theta1),sy.diff(T0c2[2,-1],theta1)],\n",
    "    [sy.diff(T0c2[0,-1],theta2),sy.diff(T0c2[1,-1],theta2),sy.diff(T0c2[2,-1],theta2)],\n",
    "    [0,0,0]\n",
    "])\n",
    "\n",
    "Jv3 = sy.Matrix([\n",
    "    [sy.diff(T0c3[0,-1],theta1),sy.diff(T0c3[1,-1],theta1),sy.diff(T0c3[2,-1],theta1)],\n",
    "    [sy.diff(T0c3[0,-1],theta2),sy.diff(T0c3[1,-1],theta2),sy.diff(T0c3[2,-1],theta2)],\n",
    "    [sy.diff(T0c3[0,-1],theta3),sy.diff(T0c3[1,-1],theta3),sy.diff(T0c3[2,-1],theta3)]\n",
    "])"
   ]
  },
  {
   "cell_type": "code",
   "execution_count": 24,
   "metadata": {},
   "outputs": [],
   "source": [
    "Jw1 = sy.Matrix([[0,0,1],[0,0,0],[0,0,0]])\n",
    "Jw2 = sy.Matrix([[0,0,1],[0,1,0],[0,0,0]])\n",
    "Jw3 = sy.Matrix([[0,0,1],[0,1,0],[1,0,0]])"
   ]
  },
  {
   "cell_type": "code",
   "execution_count": 25,
   "metadata": {},
   "outputs": [],
   "source": [
    "Ic1 = mass/12 * sy.Matrix([[2*h**2 ,0,0],\n",
    "    [0 ,Length_link_1**2+h*h,0],\n",
    "    [0,0,Length_link_1*Length_link_1+h*h]])\n",
    "Ic2 = mass/12 * sy.Matrix([[2*h**2 ,0,0],\n",
    "    [0 ,Length_link_1**2+h*h,0],\n",
    "    [0,0,Length_link_1*Length_link_1+h*h]])\n",
    "Ic3 = mass/12 * sy.Matrix([[2*h**2 ,0,0],\n",
    "    [0 ,Length_link_1**2+h*h,0],\n",
    "    [0,0,Length_link_1*Length_link_1+h*h]])"
   ]
  },
  {
   "cell_type": "code",
   "execution_count": 26,
   "metadata": {},
   "outputs": [],
   "source": [
    "mass_matrix = (Jv1.T * Jv1)*mass + mass*Jv2.T*Jv2 + mass*Jv3.T*Jv3 + Jw1*Ic1*Jw1.T + Jw2*Ic2*Jw2.T + Jw3*Ic3*Jw3.T"
   ]
  },
  {
   "cell_type": "code",
   "execution_count": null,
   "metadata": {},
   "outputs": [],
   "source": []
  },
  {
   "cell_type": "code",
   "execution_count": 28,
   "metadata": {},
   "outputs": [],
   "source": [
    "def m_h(i,j,k):\n",
    "    if k == 1:\n",
    "        return sy.diff(mass_matrix[i-1,j-1],theta1)\n",
    "    if k == 2:\n",
    "        return sy.diff(mass_matrix[i-1,j-1],theta2)\n",
    "    if k == 3:\n",
    "        return sy.diff(mass_matrix[i-1,j-1],theta3)\n",
    "    \n",
    "def b_h(i,j,k):\n",
    "    return 0.5*(m_h(i,j,k) + m_h(i,k,j) - m_h(j,k,i))"
   ]
  },
  {
   "cell_type": "code",
   "execution_count": 29,
   "metadata": {},
   "outputs": [],
   "source": [
    "C = sy.Matrix([\n",
    "    [b_h(1,1,1),b_h(1,2,2),b_h(1,3,3)],\n",
    "    [b_h(2,1,1),b_h(2,2,2),b_h(2,3,3)],\n",
    "    [b_h(3,1,1),b_h(3,2,2),b_h(3,3,3)]\n",
    "])\n"
   ]
  },
  {
   "cell_type": "code",
   "execution_count": 30,
   "metadata": {},
   "outputs": [],
   "source": [
    "B = 2*sy.Matrix([\n",
    "    [b_h(1,1,2),b_h(1,1,3),b_h(1,2,3)],\n",
    "    [b_h(2,1,2),b_h(2,1,3),b_h(2,2,3)],\n",
    "    [b_h(3,1,2),b_h(3,1,3),b_h(3,2,3)]\n",
    "])"
   ]
  },
  {
   "cell_type": "code",
   "execution_count": 31,
   "metadata": {},
   "outputs": [],
   "source": [
    "g_vect = sy.Matrix([ [0] ,[0],[-1*g]])"
   ]
  },
  {
   "cell_type": "code",
   "execution_count": 32,
   "metadata": {},
   "outputs": [],
   "source": [
    "G = -1*( Jv1.T*mass*g_vect + Jv2.T*mass*g_vect  + Jv3.T*mass*g_vect)"
   ]
  },
  {
   "cell_type": "code",
   "execution_count": 33,
   "metadata": {},
   "outputs": [],
   "source": [
    "q_dot_dot = sy.Matrix([[t1_d_d,t2_d_d,t3_d_d]]).T\n",
    "q_dot_2 = sy.Matrix([[t1_dot**2,t2_dot**2,t3_dot**2]]).T\n",
    "q_q_dot = sy.Matrix([[t1_dot*t2_dot,t1_dot*t3_dot,t2_dot*t3_dot]]).T"
   ]
  },
  {
   "cell_type": "code",
   "execution_count": 34,
   "metadata": {},
   "outputs": [],
   "source": [
    "Torque = mass_matrix*q_dot_dot + C*q_dot_2 + B*q_q_dot + G"
   ]
  },
  {
   "cell_type": "code",
   "execution_count": 37,
   "metadata": {},
   "outputs": [],
   "source": [
    " # Coriolis matrixs"
   ]
  },
  {
   "cell_type": "code",
   "execution_count": 38,
   "metadata": {},
   "outputs": [
    {
     "data": {
      "text/latex": [
       "$\\displaystyle \\left[\\begin{matrix}- 0.25 L_{2}^{2} m \\sin{\\left(\\theta_{1} \\right)} \\sin^{2}{\\left(\\theta_{2} \\right)} \\cos{\\left(\\theta_{1} \\right)} + 0.125 L_{3}^{2} m \\left(1.0 \\sin{\\left(\\theta_{1} \\right)} \\cos{\\left(\\theta_{3} \\right)} - \\sin{\\left(\\theta_{3} \\right)} \\cos{\\left(\\theta_{1} \\right)} \\cos{\\left(\\theta_{2} \\right)}\\right) \\left(2 \\sin{\\left(\\theta_{1} \\right)} \\sin{\\left(\\theta_{3} \\right)} \\cos{\\left(\\theta_{2} \\right)} + 2.0 \\cos{\\left(\\theta_{1} \\right)} \\cos{\\left(\\theta_{3} \\right)}\\right) + 0.5 m \\left(- 1.0 L_{1} \\sin{\\left(\\theta_{1} \\right)} - 0.5 L_{2} \\sin{\\left(\\theta_{1} \\right)} \\cos{\\left(\\theta_{2} \\right)}\\right) \\left(- 2.0 L_{1} \\cos{\\left(\\theta_{1} \\right)} - 1.0 L_{2} \\cos{\\left(\\theta_{1} \\right)} \\cos{\\left(\\theta_{2} \\right)}\\right) + 0.5 m \\left(2.0 L_{2} \\sin{\\left(\\theta_{1} \\right)} \\sin{\\left(\\theta_{2} \\right)} + L_{3} \\sin{\\left(\\theta_{1} \\right)} \\sin{\\left(\\theta_{2} \\right)} \\cos{\\left(\\theta_{3} \\right)}\\right) \\left(- 1.0 L_{2} \\sin{\\left(\\theta_{2} \\right)} \\cos{\\left(\\theta_{1} \\right)} - 0.5 L_{3} \\sin{\\left(\\theta_{2} \\right)} \\cos{\\left(\\theta_{1} \\right)} \\cos{\\left(\\theta_{3} \\right)}\\right) + 0.5 m \\left(- 1.0 L_{1} \\sin{\\left(\\theta_{1} \\right)} - 1.0 L_{2} \\sin{\\left(\\theta_{1} \\right)} \\cos{\\left(\\theta_{2} \\right)} + 0.5 L_{3} \\left(- \\sin{\\left(\\theta_{1} \\right)} \\cos{\\left(\\theta_{2} \\right)} \\cos{\\left(\\theta_{3} \\right)} + 1.0 \\sin{\\left(\\theta_{3} \\right)} \\cos{\\left(\\theta_{1} \\right)}\\right)\\right) \\left(- 2.0 L_{1} \\cos{\\left(\\theta_{1} \\right)} - 2.0 L_{2} \\cos{\\left(\\theta_{1} \\right)} \\cos{\\left(\\theta_{2} \\right)} + L_{3} \\left(- 1.0 \\sin{\\left(\\theta_{1} \\right)} \\sin{\\left(\\theta_{3} \\right)} - \\cos{\\left(\\theta_{1} \\right)} \\cos{\\left(\\theta_{2} \\right)} \\cos{\\left(\\theta_{3} \\right)}\\right)\\right) & - 0.25 L_{2}^{2} m \\sin{\\left(\\theta_{1} \\right)} \\sin^{2}{\\left(\\theta_{2} \\right)} \\cos{\\left(\\theta_{1} \\right)} + 0.5 L_{2}^{2} m \\sin{\\left(\\theta_{1} \\right)} \\sin{\\left(\\theta_{2} \\right)} \\cos{\\left(\\theta_{1} \\right)} \\cos{\\left(\\theta_{2} \\right)} - 0.5 L_{2} m \\left(- 1.0 L_{1} \\sin{\\left(\\theta_{1} \\right)} - 0.5 L_{2} \\sin{\\left(\\theta_{1} \\right)} \\cos{\\left(\\theta_{2} \\right)}\\right) \\sin{\\left(\\theta_{2} \\right)} \\cos{\\left(\\theta_{1} \\right)} + 0.5 L_{2} m \\left(1.0 L_{1} \\cos{\\left(\\theta_{1} \\right)} + 0.5 L_{2} \\cos{\\left(\\theta_{1} \\right)} \\cos{\\left(\\theta_{2} \\right)}\\right) \\sin{\\left(\\theta_{1} \\right)} \\sin{\\left(\\theta_{2} \\right)} + 0.25 L_{3}^{2} m \\left(1.0 \\sin{\\left(\\theta_{1} \\right)} \\cos{\\left(\\theta_{3} \\right)} - \\sin{\\left(\\theta_{3} \\right)} \\cos{\\left(\\theta_{1} \\right)} \\cos{\\left(\\theta_{2} \\right)}\\right) \\sin{\\left(\\theta_{1} \\right)} \\sin{\\left(\\theta_{2} \\right)} \\sin{\\left(\\theta_{3} \\right)} - 0.125 L_{3}^{2} m \\left(2.0 \\sin{\\left(\\theta_{1} \\right)} \\cos{\\left(\\theta_{3} \\right)} - 2 \\sin{\\left(\\theta_{3} \\right)} \\cos{\\left(\\theta_{1} \\right)} \\cos{\\left(\\theta_{2} \\right)}\\right) \\left(- \\sin{\\left(\\theta_{1} \\right)} \\sin{\\left(\\theta_{3} \\right)} \\cos{\\left(\\theta_{2} \\right)} - 1.0 \\cos{\\left(\\theta_{1} \\right)} \\cos{\\left(\\theta_{3} \\right)}\\right) + 0.25 L_{3}^{2} m \\left(- \\sin{\\left(\\theta_{1} \\right)} \\sin{\\left(\\theta_{3} \\right)} \\cos{\\left(\\theta_{2} \\right)} - 1.0 \\cos{\\left(\\theta_{1} \\right)} \\cos{\\left(\\theta_{3} \\right)}\\right) \\sin{\\left(\\theta_{2} \\right)} \\sin{\\left(\\theta_{3} \\right)} \\cos{\\left(\\theta_{1} \\right)} - 0.5 m \\left(- 2.0 L_{1} \\sin{\\left(\\theta_{1} \\right)} - 1.0 L_{2} \\sin{\\left(\\theta_{1} \\right)} \\cos{\\left(\\theta_{2} \\right)}\\right) \\left(1.0 L_{1} \\cos{\\left(\\theta_{1} \\right)} + 0.5 L_{2} \\cos{\\left(\\theta_{1} \\right)} \\cos{\\left(\\theta_{2} \\right)}\\right) - 0.5 m \\left(- 1.0 L_{2} \\sin{\\left(\\theta_{1} \\right)} \\sin{\\left(\\theta_{2} \\right)} - 0.5 L_{3} \\sin{\\left(\\theta_{1} \\right)} \\sin{\\left(\\theta_{2} \\right)} \\cos{\\left(\\theta_{3} \\right)}\\right) \\left(- 2.0 L_{2} \\sin{\\left(\\theta_{2} \\right)} \\cos{\\left(\\theta_{1} \\right)} - 1.0 L_{3} \\sin{\\left(\\theta_{2} \\right)} \\cos{\\left(\\theta_{1} \\right)} \\cos{\\left(\\theta_{3} \\right)}\\right) + 1.0 m \\left(- 1.0 L_{2} \\sin{\\left(\\theta_{1} \\right)} \\sin{\\left(\\theta_{2} \\right)} - 0.5 L_{3} \\sin{\\left(\\theta_{1} \\right)} \\sin{\\left(\\theta_{2} \\right)} \\cos{\\left(\\theta_{3} \\right)}\\right) \\left(- 1.0 L_{2} \\cos{\\left(\\theta_{1} \\right)} \\cos{\\left(\\theta_{2} \\right)} - 0.5 L_{3} \\cos{\\left(\\theta_{1} \\right)} \\cos{\\left(\\theta_{2} \\right)} \\cos{\\left(\\theta_{3} \\right)}\\right) + 1.0 m \\left(1.0 L_{2} \\sin{\\left(\\theta_{1} \\right)} \\sin{\\left(\\theta_{2} \\right)} + 0.5 L_{3} \\sin{\\left(\\theta_{1} \\right)} \\sin{\\left(\\theta_{2} \\right)} \\cos{\\left(\\theta_{3} \\right)}\\right) \\left(1.0 L_{1} \\cos{\\left(\\theta_{1} \\right)} + 1.0 L_{2} \\cos{\\left(\\theta_{1} \\right)} \\cos{\\left(\\theta_{2} \\right)} + 0.5 L_{3} \\left(1.0 \\sin{\\left(\\theta_{1} \\right)} \\sin{\\left(\\theta_{3} \\right)} + \\cos{\\left(\\theta_{1} \\right)} \\cos{\\left(\\theta_{2} \\right)} \\cos{\\left(\\theta_{3} \\right)}\\right)\\right) + 1.0 m \\left(- 1.0 L_{2} \\sin{\\left(\\theta_{1} \\right)} \\cos{\\left(\\theta_{2} \\right)} - 0.5 L_{3} \\sin{\\left(\\theta_{1} \\right)} \\cos{\\left(\\theta_{2} \\right)} \\cos{\\left(\\theta_{3} \\right)}\\right) \\left(- 1.0 L_{2} \\sin{\\left(\\theta_{2} \\right)} \\cos{\\left(\\theta_{1} \\right)} - 0.5 L_{3} \\sin{\\left(\\theta_{2} \\right)} \\cos{\\left(\\theta_{1} \\right)} \\cos{\\left(\\theta_{3} \\right)}\\right) + 1.0 m \\left(- 1.0 L_{2} \\sin{\\left(\\theta_{2} \\right)} \\cos{\\left(\\theta_{1} \\right)} - 0.5 L_{3} \\sin{\\left(\\theta_{2} \\right)} \\cos{\\left(\\theta_{1} \\right)} \\cos{\\left(\\theta_{3} \\right)}\\right) \\left(- 1.0 L_{1} \\sin{\\left(\\theta_{1} \\right)} - 1.0 L_{2} \\sin{\\left(\\theta_{1} \\right)} \\cos{\\left(\\theta_{2} \\right)} + 0.5 L_{3} \\left(- \\sin{\\left(\\theta_{1} \\right)} \\cos{\\left(\\theta_{2} \\right)} \\cos{\\left(\\theta_{3} \\right)} + 1.0 \\sin{\\left(\\theta_{3} \\right)} \\cos{\\left(\\theta_{1} \\right)}\\right)\\right) - 0.5 m \\left(- 2.0 L_{1} \\sin{\\left(\\theta_{1} \\right)} - 2.0 L_{2} \\sin{\\left(\\theta_{1} \\right)} \\cos{\\left(\\theta_{2} \\right)} + L_{3} \\left(- \\sin{\\left(\\theta_{1} \\right)} \\cos{\\left(\\theta_{2} \\right)} \\cos{\\left(\\theta_{3} \\right)} + 1.0 \\sin{\\left(\\theta_{3} \\right)} \\cos{\\left(\\theta_{1} \\right)}\\right)\\right) \\left(1.0 L_{1} \\cos{\\left(\\theta_{1} \\right)} + 1.0 L_{2} \\cos{\\left(\\theta_{1} \\right)} \\cos{\\left(\\theta_{2} \\right)} + 0.5 L_{3} \\left(1.0 \\sin{\\left(\\theta_{1} \\right)} \\sin{\\left(\\theta_{3} \\right)} + \\cos{\\left(\\theta_{1} \\right)} \\cos{\\left(\\theta_{2} \\right)} \\cos{\\left(\\theta_{3} \\right)}\\right)\\right) & 0.25 L_{3}^{2} m \\left(- 1.0 \\sin{\\left(\\theta_{1} \\right)} \\sin{\\left(\\theta_{3} \\right)} - \\cos{\\left(\\theta_{1} \\right)} \\cos{\\left(\\theta_{2} \\right)} \\cos{\\left(\\theta_{3} \\right)}\\right) \\sin{\\left(\\theta_{2} \\right)} \\sin{\\left(\\theta_{3} \\right)} + 0.25 L_{3}^{2} m \\left(1.0 \\sin{\\left(\\theta_{1} \\right)} \\cos{\\left(\\theta_{3} \\right)} - \\sin{\\left(\\theta_{3} \\right)} \\cos{\\left(\\theta_{1} \\right)} \\cos{\\left(\\theta_{2} \\right)}\\right) \\sin{\\left(\\theta_{2} \\right)} \\cos{\\left(\\theta_{3} \\right)} + 0.5 L_{3} m \\left(- 1.0 L_{2} \\cos{\\left(\\theta_{2} \\right)} - 0.5 L_{3} \\cos{\\left(\\theta_{2} \\right)} \\cos{\\left(\\theta_{3} \\right)}\\right) \\sin{\\left(\\theta_{2} \\right)} \\sin{\\left(\\theta_{3} \\right)} \\cos{\\left(\\theta_{1} \\right)} + 0.5 L_{3} m \\left(- 1.0 L_{2} \\sin{\\left(\\theta_{2} \\right)} \\cos{\\left(\\theta_{1} \\right)} - 0.5 L_{3} \\sin{\\left(\\theta_{2} \\right)} \\cos{\\left(\\theta_{1} \\right)} \\cos{\\left(\\theta_{3} \\right)}\\right) \\sin{\\left(\\theta_{3} \\right)} \\cos{\\left(\\theta_{2} \\right)}\\\\- 0.25 L_{2}^{2} m \\sin^{2}{\\left(\\theta_{1} \\right)} \\sin^{2}{\\left(\\theta_{2} \\right)} + 0.25 L_{2}^{2} m \\sin^{2}{\\left(\\theta_{2} \\right)} \\cos^{2}{\\left(\\theta_{1} \\right)} - 0.25 L_{2}^{2} m \\sin{\\left(\\theta_{2} \\right)} \\cos^{2}{\\left(\\theta_{1} \\right)} \\cos{\\left(\\theta_{2} \\right)} - 0.5 L_{2} m \\left(- 1.0 L_{1} \\sin{\\left(\\theta_{1} \\right)} - 0.5 L_{2} \\sin{\\left(\\theta_{1} \\right)} \\cos{\\left(\\theta_{2} \\right)}\\right) \\sin{\\left(\\theta_{1} \\right)} \\sin{\\left(\\theta_{2} \\right)} + 0.25 L_{3}^{2} m \\left(1.0 \\sin{\\left(\\theta_{1} \\right)} \\cos{\\left(\\theta_{3} \\right)} - \\sin{\\left(\\theta_{3} \\right)} \\cos{\\left(\\theta_{1} \\right)} \\cos{\\left(\\theta_{2} \\right)}\\right)^{2} - 0.25 L_{3}^{2} m \\left(1.0 \\sin{\\left(\\theta_{1} \\right)} \\cos{\\left(\\theta_{3} \\right)} - \\sin{\\left(\\theta_{3} \\right)} \\cos{\\left(\\theta_{1} \\right)} \\cos{\\left(\\theta_{2} \\right)}\\right) \\sin{\\left(\\theta_{2} \\right)} \\sin{\\left(\\theta_{3} \\right)} \\cos{\\left(\\theta_{1} \\right)} + 0.25 L_{3}^{2} m \\left(- \\sin{\\left(\\theta_{1} \\right)} \\sin{\\left(\\theta_{3} \\right)} \\cos{\\left(\\theta_{2} \\right)} - 1.0 \\cos{\\left(\\theta_{1} \\right)} \\cos{\\left(\\theta_{3} \\right)}\\right) \\left(\\sin{\\left(\\theta_{1} \\right)} \\sin{\\left(\\theta_{3} \\right)} \\cos{\\left(\\theta_{2} \\right)} + 1.0 \\cos{\\left(\\theta_{1} \\right)} \\cos{\\left(\\theta_{3} \\right)}\\right) + 1.0 m \\left(- 1.0 L_{1} \\sin{\\left(\\theta_{1} \\right)} - 0.5 L_{2} \\sin{\\left(\\theta_{1} \\right)} \\cos{\\left(\\theta_{2} \\right)}\\right)^{2} + 1.0 m \\left(- 1.0 L_{1} \\cos{\\left(\\theta_{1} \\right)} - 0.5 L_{2} \\cos{\\left(\\theta_{1} \\right)} \\cos{\\left(\\theta_{2} \\right)}\\right) \\left(1.0 L_{1} \\cos{\\left(\\theta_{1} \\right)} + 0.5 L_{2} \\cos{\\left(\\theta_{1} \\right)} \\cos{\\left(\\theta_{2} \\right)}\\right) + 1.0 m \\left(- 1.0 L_{2} \\sin{\\left(\\theta_{1} \\right)} \\sin{\\left(\\theta_{2} \\right)} - 0.5 L_{3} \\sin{\\left(\\theta_{1} \\right)} \\sin{\\left(\\theta_{2} \\right)} \\cos{\\left(\\theta_{3} \\right)}\\right) \\left(1.0 L_{2} \\sin{\\left(\\theta_{1} \\right)} \\sin{\\left(\\theta_{2} \\right)} + 0.5 L_{3} \\sin{\\left(\\theta_{1} \\right)} \\sin{\\left(\\theta_{2} \\right)} \\cos{\\left(\\theta_{3} \\right)}\\right) - 0.5 m \\left(2.0 L_{2} \\sin{\\left(\\theta_{1} \\right)} \\sin{\\left(\\theta_{2} \\right)} + L_{3} \\sin{\\left(\\theta_{1} \\right)} \\sin{\\left(\\theta_{2} \\right)} \\cos{\\left(\\theta_{3} \\right)}\\right) \\left(- 1.0 L_{1} \\sin{\\left(\\theta_{1} \\right)} - 1.0 L_{2} \\sin{\\left(\\theta_{1} \\right)} \\cos{\\left(\\theta_{2} \\right)} + 0.5 L_{3} \\left(- \\sin{\\left(\\theta_{1} \\right)} \\cos{\\left(\\theta_{2} \\right)} \\cos{\\left(\\theta_{3} \\right)} + 1.0 \\sin{\\left(\\theta_{3} \\right)} \\cos{\\left(\\theta_{1} \\right)}\\right)\\right) + 1.0 m \\left(- 1.0 L_{2} \\sin{\\left(\\theta_{2} \\right)} \\cos{\\left(\\theta_{1} \\right)} - 0.5 L_{3} \\sin{\\left(\\theta_{2} \\right)} \\cos{\\left(\\theta_{1} \\right)} \\cos{\\left(\\theta_{3} \\right)}\\right)^{2} - 0.5 m \\left(- 1.0 L_{2} \\sin{\\left(\\theta_{2} \\right)} \\cos{\\left(\\theta_{1} \\right)} - 0.5 L_{3} \\sin{\\left(\\theta_{2} \\right)} \\cos{\\left(\\theta_{1} \\right)} \\cos{\\left(\\theta_{3} \\right)}\\right) \\left(- 2.0 L_{2} \\cos{\\left(\\theta_{1} \\right)} \\cos{\\left(\\theta_{2} \\right)} - 1.0 L_{3} \\cos{\\left(\\theta_{1} \\right)} \\cos{\\left(\\theta_{2} \\right)} \\cos{\\left(\\theta_{3} \\right)}\\right) + 1.0 m \\left(- 1.0 L_{1} \\sin{\\left(\\theta_{1} \\right)} - 1.0 L_{2} \\sin{\\left(\\theta_{1} \\right)} \\cos{\\left(\\theta_{2} \\right)} + 0.5 L_{3} \\left(- \\sin{\\left(\\theta_{1} \\right)} \\cos{\\left(\\theta_{2} \\right)} \\cos{\\left(\\theta_{3} \\right)} + 1.0 \\sin{\\left(\\theta_{3} \\right)} \\cos{\\left(\\theta_{1} \\right)}\\right)\\right)^{2} + 1.0 m \\left(- 1.0 L_{1} \\cos{\\left(\\theta_{1} \\right)} - 1.0 L_{2} \\cos{\\left(\\theta_{1} \\right)} \\cos{\\left(\\theta_{2} \\right)} + 0.5 L_{3} \\left(- 1.0 \\sin{\\left(\\theta_{1} \\right)} \\sin{\\left(\\theta_{3} \\right)} - \\cos{\\left(\\theta_{1} \\right)} \\cos{\\left(\\theta_{2} \\right)} \\cos{\\left(\\theta_{3} \\right)}\\right)\\right) \\left(1.0 L_{1} \\cos{\\left(\\theta_{1} \\right)} + 1.0 L_{2} \\cos{\\left(\\theta_{1} \\right)} \\cos{\\left(\\theta_{2} \\right)} + 0.5 L_{3} \\left(1.0 \\sin{\\left(\\theta_{1} \\right)} \\sin{\\left(\\theta_{3} \\right)} + \\cos{\\left(\\theta_{1} \\right)} \\cos{\\left(\\theta_{2} \\right)} \\cos{\\left(\\theta_{3} \\right)}\\right)\\right) & 0.25 L_{2}^{2} m \\sin^{2}{\\left(\\theta_{1} \\right)} \\sin{\\left(\\theta_{2} \\right)} \\cos{\\left(\\theta_{2} \\right)} - 0.5 L_{2} m \\left(1.0 L_{1} \\cos{\\left(\\theta_{1} \\right)} + 0.5 L_{2} \\cos{\\left(\\theta_{1} \\right)} \\cos{\\left(\\theta_{2} \\right)}\\right) \\sin{\\left(\\theta_{2} \\right)} \\cos{\\left(\\theta_{1} \\right)} + 0.25 L_{3}^{2} m \\left(- \\sin{\\left(\\theta_{1} \\right)} \\sin{\\left(\\theta_{3} \\right)} \\cos{\\left(\\theta_{2} \\right)} - 1.0 \\cos{\\left(\\theta_{1} \\right)} \\cos{\\left(\\theta_{3} \\right)}\\right) \\sin{\\left(\\theta_{1} \\right)} \\sin{\\left(\\theta_{2} \\right)} \\sin{\\left(\\theta_{3} \\right)} + 0.5 m \\left(- 1.0 L_{2} \\sin{\\left(\\theta_{1} \\right)} \\sin{\\left(\\theta_{2} \\right)} - 0.5 L_{3} \\sin{\\left(\\theta_{1} \\right)} \\sin{\\left(\\theta_{2} \\right)} \\cos{\\left(\\theta_{3} \\right)}\\right) \\left(- 2.0 L_{2} \\sin{\\left(\\theta_{1} \\right)} \\cos{\\left(\\theta_{2} \\right)} - 1.0 L_{3} \\sin{\\left(\\theta_{1} \\right)} \\cos{\\left(\\theta_{2} \\right)} \\cos{\\left(\\theta_{3} \\right)}\\right) + 0.5 m \\left(- 2.0 L_{2} \\sin{\\left(\\theta_{2} \\right)} \\cos{\\left(\\theta_{1} \\right)} - 1.0 L_{3} \\sin{\\left(\\theta_{2} \\right)} \\cos{\\left(\\theta_{1} \\right)} \\cos{\\left(\\theta_{3} \\right)}\\right) \\left(1.0 L_{1} \\cos{\\left(\\theta_{1} \\right)} + 1.0 L_{2} \\cos{\\left(\\theta_{1} \\right)} \\cos{\\left(\\theta_{2} \\right)} + 0.5 L_{3} \\left(1.0 \\sin{\\left(\\theta_{1} \\right)} \\sin{\\left(\\theta_{3} \\right)} + \\cos{\\left(\\theta_{1} \\right)} \\cos{\\left(\\theta_{2} \\right)} \\cos{\\left(\\theta_{3} \\right)}\\right)\\right) & 0.25 L_{2}^{2} m \\sin{\\left(\\theta_{2} \\right)} \\cos{\\left(\\theta_{2} \\right)} + 0.25 L_{3}^{2} m \\left(- \\sin{\\left(\\theta_{1} \\right)} \\sin{\\left(\\theta_{3} \\right)} \\cos{\\left(\\theta_{2} \\right)} - 1.0 \\cos{\\left(\\theta_{1} \\right)} \\cos{\\left(\\theta_{3} \\right)}\\right) \\sin{\\left(\\theta_{2} \\right)} \\cos{\\left(\\theta_{3} \\right)} + 0.25 L_{3}^{2} m \\left(- \\sin{\\left(\\theta_{1} \\right)} \\cos{\\left(\\theta_{2} \\right)} \\cos{\\left(\\theta_{3} \\right)} + 1.0 \\sin{\\left(\\theta_{3} \\right)} \\cos{\\left(\\theta_{1} \\right)}\\right) \\sin{\\left(\\theta_{2} \\right)} \\sin{\\left(\\theta_{3} \\right)} - 0.25 L_{3}^{2} m \\sin{\\left(\\theta_{2} \\right)} \\sin^{2}{\\left(\\theta_{3} \\right)} \\cos{\\left(\\theta_{2} \\right)} + 0.5 L_{3} m \\left(- 1.0 L_{2} \\cos{\\left(\\theta_{2} \\right)} - 0.5 L_{3} \\cos{\\left(\\theta_{2} \\right)} \\cos{\\left(\\theta_{3} \\right)}\\right) \\sin{\\left(\\theta_{1} \\right)} \\sin{\\left(\\theta_{2} \\right)} \\sin{\\left(\\theta_{3} \\right)} + 0.5 L_{3} m \\left(- 1.0 L_{2} \\sin{\\left(\\theta_{1} \\right)} \\sin{\\left(\\theta_{2} \\right)} - 0.5 L_{3} \\sin{\\left(\\theta_{1} \\right)} \\sin{\\left(\\theta_{2} \\right)} \\cos{\\left(\\theta_{3} \\right)}\\right) \\sin{\\left(\\theta_{3} \\right)} \\cos{\\left(\\theta_{2} \\right)} - 0.5 m \\left(2.0 L_{2} \\sin{\\left(\\theta_{2} \\right)} + L_{3} \\sin{\\left(\\theta_{2} \\right)} \\cos{\\left(\\theta_{3} \\right)}\\right) \\left(- 1.0 L_{2} \\cos{\\left(\\theta_{2} \\right)} - 0.5 L_{3} \\cos{\\left(\\theta_{2} \\right)} \\cos{\\left(\\theta_{3} \\right)}\\right)\\\\- 0.25 L_{2}^{2} m \\sin{\\left(\\theta_{1} \\right)} \\sin{\\left(\\theta_{2} \\right)} \\cos{\\left(\\theta_{2} \\right)} - 0.125 L_{3}^{2} m \\left(- 2.0 \\sin{\\left(\\theta_{1} \\right)} \\sin{\\left(\\theta_{3} \\right)} - 2 \\cos{\\left(\\theta_{1} \\right)} \\cos{\\left(\\theta_{2} \\right)} \\cos{\\left(\\theta_{3} \\right)}\\right) \\left(1.0 \\sin{\\left(\\theta_{1} \\right)} \\cos{\\left(\\theta_{3} \\right)} - \\sin{\\left(\\theta_{3} \\right)} \\cos{\\left(\\theta_{1} \\right)} \\cos{\\left(\\theta_{2} \\right)}\\right) + 0.25 L_{3}^{2} m \\left(\\sin{\\left(\\theta_{1} \\right)} \\sin{\\left(\\theta_{3} \\right)} \\cos{\\left(\\theta_{2} \\right)} + 1.0 \\cos{\\left(\\theta_{1} \\right)} \\cos{\\left(\\theta_{3} \\right)}\\right) \\sin{\\left(\\theta_{2} \\right)} \\sin{\\left(\\theta_{3} \\right)} - 0.5 L_{3} m \\left(- 1.0 L_{2} \\sin{\\left(\\theta_{2} \\right)} \\cos{\\left(\\theta_{1} \\right)} - 0.5 L_{3} \\sin{\\left(\\theta_{2} \\right)} \\cos{\\left(\\theta_{1} \\right)} \\cos{\\left(\\theta_{3} \\right)}\\right) \\sin{\\left(\\theta_{2} \\right)} \\sin{\\left(\\theta_{3} \\right)} \\cos{\\left(\\theta_{1} \\right)} - 0.5 L_{3} m \\left(\\sin{\\left(\\theta_{1} \\right)} \\sin{\\left(\\theta_{3} \\right)} \\cos{\\left(\\theta_{2} \\right)} + 1.0 \\cos{\\left(\\theta_{1} \\right)} \\cos{\\left(\\theta_{3} \\right)}\\right) \\left(- 1.0 L_{1} \\sin{\\left(\\theta_{1} \\right)} - 1.0 L_{2} \\sin{\\left(\\theta_{1} \\right)} \\cos{\\left(\\theta_{2} \\right)} + 0.5 L_{3} \\left(- \\sin{\\left(\\theta_{1} \\right)} \\cos{\\left(\\theta_{2} \\right)} \\cos{\\left(\\theta_{3} \\right)} + 1.0 \\sin{\\left(\\theta_{3} \\right)} \\cos{\\left(\\theta_{1} \\right)}\\right)\\right) + 1.0 m \\left(- 1.0 L_{2} \\cos{\\left(\\theta_{2} \\right)} - 0.5 L_{3} \\cos{\\left(\\theta_{2} \\right)} \\cos{\\left(\\theta_{3} \\right)}\\right) \\left(1.0 L_{2} \\sin{\\left(\\theta_{1} \\right)} \\sin{\\left(\\theta_{2} \\right)} + 0.5 L_{3} \\sin{\\left(\\theta_{1} \\right)} \\sin{\\left(\\theta_{2} \\right)} \\cos{\\left(\\theta_{3} \\right)}\\right) & - 0.25 L_{2}^{2} m \\sin{\\left(\\theta_{1} \\right)} \\sin^{2}{\\left(\\theta_{2} \\right)} + 0.25 L_{2}^{2} m \\sin{\\left(\\theta_{1} \\right)} \\cos^{2}{\\left(\\theta_{2} \\right)} - 0.125 L_{3}^{2} m \\left(- \\sin{\\left(\\theta_{1} \\right)} \\sin{\\left(\\theta_{3} \\right)} \\cos{\\left(\\theta_{2} \\right)} - 1.0 \\cos{\\left(\\theta_{1} \\right)} \\cos{\\left(\\theta_{3} \\right)}\\right) \\left(- 2 \\sin{\\left(\\theta_{1} \\right)} \\cos{\\left(\\theta_{2} \\right)} \\cos{\\left(\\theta_{3} \\right)} + 2.0 \\sin{\\left(\\theta_{3} \\right)} \\cos{\\left(\\theta_{1} \\right)}\\right) + 0.25 L_{3}^{2} m \\left(- \\sin{\\left(\\theta_{1} \\right)} \\sin{\\left(\\theta_{3} \\right)} \\cos{\\left(\\theta_{2} \\right)} - 1.0 \\cos{\\left(\\theta_{1} \\right)} \\cos{\\left(\\theta_{3} \\right)}\\right) \\sin{\\left(\\theta_{3} \\right)} \\cos{\\left(\\theta_{2} \\right)} + 0.25 L_{3}^{2} m \\sin{\\left(\\theta_{1} \\right)} \\sin^{2}{\\left(\\theta_{2} \\right)} \\sin^{2}{\\left(\\theta_{3} \\right)} - 0.5 L_{3} m \\left(1.0 \\sin{\\left(\\theta_{1} \\right)} \\cos{\\left(\\theta_{3} \\right)} - \\sin{\\left(\\theta_{3} \\right)} \\cos{\\left(\\theta_{1} \\right)} \\cos{\\left(\\theta_{2} \\right)}\\right) \\left(1.0 L_{1} \\cos{\\left(\\theta_{1} \\right)} + 1.0 L_{2} \\cos{\\left(\\theta_{1} \\right)} \\cos{\\left(\\theta_{2} \\right)} + 0.5 L_{3} \\left(1.0 \\sin{\\left(\\theta_{1} \\right)} \\sin{\\left(\\theta_{3} \\right)} + \\cos{\\left(\\theta_{1} \\right)} \\cos{\\left(\\theta_{2} \\right)} \\cos{\\left(\\theta_{3} \\right)}\\right)\\right) - 0.5 L_{3} m \\left(- 1.0 L_{2} \\sin{\\left(\\theta_{1} \\right)} \\sin{\\left(\\theta_{2} \\right)} - 0.5 L_{3} \\sin{\\left(\\theta_{1} \\right)} \\sin{\\left(\\theta_{2} \\right)} \\cos{\\left(\\theta_{3} \\right)}\\right) \\sin{\\left(\\theta_{1} \\right)} \\sin{\\left(\\theta_{2} \\right)} \\sin{\\left(\\theta_{3} \\right)} + 1.0 m \\left(1.0 L_{2} \\sin{\\left(\\theta_{2} \\right)} + 0.5 L_{3} \\sin{\\left(\\theta_{2} \\right)} \\cos{\\left(\\theta_{3} \\right)}\\right) \\left(- 1.0 L_{2} \\sin{\\left(\\theta_{1} \\right)} \\sin{\\left(\\theta_{2} \\right)} - 0.5 L_{3} \\sin{\\left(\\theta_{1} \\right)} \\sin{\\left(\\theta_{2} \\right)} \\cos{\\left(\\theta_{3} \\right)}\\right) + 1.0 m \\left(- 1.0 L_{2} \\cos{\\left(\\theta_{2} \\right)} - 0.5 L_{3} \\cos{\\left(\\theta_{2} \\right)} \\cos{\\left(\\theta_{3} \\right)}\\right) \\left(- 1.0 L_{2} \\sin{\\left(\\theta_{1} \\right)} \\cos{\\left(\\theta_{2} \\right)} - 0.5 L_{3} \\sin{\\left(\\theta_{1} \\right)} \\cos{\\left(\\theta_{2} \\right)} \\cos{\\left(\\theta_{3} \\right)}\\right) & 0.25 L_{3}^{2} m \\sin^{2}{\\left(\\theta_{2} \\right)} \\sin{\\left(\\theta_{3} \\right)} \\cos{\\left(\\theta_{3} \\right)} + 0.5 L_{3} m \\left(- 1.0 L_{2} \\cos{\\left(\\theta_{2} \\right)} - 0.5 L_{3} \\cos{\\left(\\theta_{2} \\right)} \\cos{\\left(\\theta_{3} \\right)}\\right) \\sin{\\left(\\theta_{3} \\right)} \\cos{\\left(\\theta_{2} \\right)}\\end{matrix}\\right]$"
      ],
      "text/plain": [
       "Matrix([\n",
       "[                                                                                                                                                                                                                                                                                                                                                                                                                                                                                                                                                                                                                                                                                                                                                                                                                                                                                                                                                                                                                                                                                                             -0.25*L2**2*m*sin(theta1)*sin(theta2)**2*cos(theta1) + 0.125*L3**2*m*(1.0*sin(theta1)*cos(theta3) - sin(theta3)*cos(theta1)*cos(theta2))*(2*sin(theta1)*sin(theta3)*cos(theta2) + 2.0*cos(theta1)*cos(theta3)) + 0.5*m*(-1.0*L1*sin(theta1) - 0.5*L2*sin(theta1)*cos(theta2))*(-2.0*L1*cos(theta1) - 1.0*L2*cos(theta1)*cos(theta2)) + 0.5*m*(2.0*L2*sin(theta1)*sin(theta2) + L3*sin(theta1)*sin(theta2)*cos(theta3))*(-1.0*L2*sin(theta2)*cos(theta1) - 0.5*L3*sin(theta2)*cos(theta1)*cos(theta3)) + 0.5*m*(-1.0*L1*sin(theta1) - 1.0*L2*sin(theta1)*cos(theta2) + 0.5*L3*(-sin(theta1)*cos(theta2)*cos(theta3) + 1.0*sin(theta3)*cos(theta1)))*(-2.0*L1*cos(theta1) - 2.0*L2*cos(theta1)*cos(theta2) + L3*(-1.0*sin(theta1)*sin(theta3) - cos(theta1)*cos(theta2)*cos(theta3))), -0.25*L2**2*m*sin(theta1)*sin(theta2)**2*cos(theta1) + 0.5*L2**2*m*sin(theta1)*sin(theta2)*cos(theta1)*cos(theta2) - 0.5*L2*m*(-1.0*L1*sin(theta1) - 0.5*L2*sin(theta1)*cos(theta2))*sin(theta2)*cos(theta1) + 0.5*L2*m*(1.0*L1*cos(theta1) + 0.5*L2*cos(theta1)*cos(theta2))*sin(theta1)*sin(theta2) + 0.25*L3**2*m*(1.0*sin(theta1)*cos(theta3) - sin(theta3)*cos(theta1)*cos(theta2))*sin(theta1)*sin(theta2)*sin(theta3) - 0.125*L3**2*m*(2.0*sin(theta1)*cos(theta3) - 2*sin(theta3)*cos(theta1)*cos(theta2))*(-sin(theta1)*sin(theta3)*cos(theta2) - 1.0*cos(theta1)*cos(theta3)) + 0.25*L3**2*m*(-sin(theta1)*sin(theta3)*cos(theta2) - 1.0*cos(theta1)*cos(theta3))*sin(theta2)*sin(theta3)*cos(theta1) - 0.5*m*(-2.0*L1*sin(theta1) - 1.0*L2*sin(theta1)*cos(theta2))*(1.0*L1*cos(theta1) + 0.5*L2*cos(theta1)*cos(theta2)) - 0.5*m*(-1.0*L2*sin(theta1)*sin(theta2) - 0.5*L3*sin(theta1)*sin(theta2)*cos(theta3))*(-2.0*L2*sin(theta2)*cos(theta1) - 1.0*L3*sin(theta2)*cos(theta1)*cos(theta3)) + 1.0*m*(-1.0*L2*sin(theta1)*sin(theta2) - 0.5*L3*sin(theta1)*sin(theta2)*cos(theta3))*(-1.0*L2*cos(theta1)*cos(theta2) - 0.5*L3*cos(theta1)*cos(theta2)*cos(theta3)) + 1.0*m*(1.0*L2*sin(theta1)*sin(theta2) + 0.5*L3*sin(theta1)*sin(theta2)*cos(theta3))*(1.0*L1*cos(theta1) + 1.0*L2*cos(theta1)*cos(theta2) + 0.5*L3*(1.0*sin(theta1)*sin(theta3) + cos(theta1)*cos(theta2)*cos(theta3))) + 1.0*m*(-1.0*L2*sin(theta1)*cos(theta2) - 0.5*L3*sin(theta1)*cos(theta2)*cos(theta3))*(-1.0*L2*sin(theta2)*cos(theta1) - 0.5*L3*sin(theta2)*cos(theta1)*cos(theta3)) + 1.0*m*(-1.0*L2*sin(theta2)*cos(theta1) - 0.5*L3*sin(theta2)*cos(theta1)*cos(theta3))*(-1.0*L1*sin(theta1) - 1.0*L2*sin(theta1)*cos(theta2) + 0.5*L3*(-sin(theta1)*cos(theta2)*cos(theta3) + 1.0*sin(theta3)*cos(theta1))) - 0.5*m*(-2.0*L1*sin(theta1) - 2.0*L2*sin(theta1)*cos(theta2) + L3*(-sin(theta1)*cos(theta2)*cos(theta3) + 1.0*sin(theta3)*cos(theta1)))*(1.0*L1*cos(theta1) + 1.0*L2*cos(theta1)*cos(theta2) + 0.5*L3*(1.0*sin(theta1)*sin(theta3) + cos(theta1)*cos(theta2)*cos(theta3))),                                                                                                                                                                                                                0.25*L3**2*m*(-1.0*sin(theta1)*sin(theta3) - cos(theta1)*cos(theta2)*cos(theta3))*sin(theta2)*sin(theta3) + 0.25*L3**2*m*(1.0*sin(theta1)*cos(theta3) - sin(theta3)*cos(theta1)*cos(theta2))*sin(theta2)*cos(theta3) + 0.5*L3*m*(-1.0*L2*cos(theta2) - 0.5*L3*cos(theta2)*cos(theta3))*sin(theta2)*sin(theta3)*cos(theta1) + 0.5*L3*m*(-1.0*L2*sin(theta2)*cos(theta1) - 0.5*L3*sin(theta2)*cos(theta1)*cos(theta3))*sin(theta3)*cos(theta2)],\n",
       "[-0.25*L2**2*m*sin(theta1)**2*sin(theta2)**2 + 0.25*L2**2*m*sin(theta2)**2*cos(theta1)**2 - 0.25*L2**2*m*sin(theta2)*cos(theta1)**2*cos(theta2) - 0.5*L2*m*(-1.0*L1*sin(theta1) - 0.5*L2*sin(theta1)*cos(theta2))*sin(theta1)*sin(theta2) + 0.25*L3**2*m*(1.0*sin(theta1)*cos(theta3) - sin(theta3)*cos(theta1)*cos(theta2))**2 - 0.25*L3**2*m*(1.0*sin(theta1)*cos(theta3) - sin(theta3)*cos(theta1)*cos(theta2))*sin(theta2)*sin(theta3)*cos(theta1) + 0.25*L3**2*m*(-sin(theta1)*sin(theta3)*cos(theta2) - 1.0*cos(theta1)*cos(theta3))*(sin(theta1)*sin(theta3)*cos(theta2) + 1.0*cos(theta1)*cos(theta3)) + 1.0*m*(-1.0*L1*sin(theta1) - 0.5*L2*sin(theta1)*cos(theta2))**2 + 1.0*m*(-1.0*L1*cos(theta1) - 0.5*L2*cos(theta1)*cos(theta2))*(1.0*L1*cos(theta1) + 0.5*L2*cos(theta1)*cos(theta2)) + 1.0*m*(-1.0*L2*sin(theta1)*sin(theta2) - 0.5*L3*sin(theta1)*sin(theta2)*cos(theta3))*(1.0*L2*sin(theta1)*sin(theta2) + 0.5*L3*sin(theta1)*sin(theta2)*cos(theta3)) - 0.5*m*(2.0*L2*sin(theta1)*sin(theta2) + L3*sin(theta1)*sin(theta2)*cos(theta3))*(-1.0*L1*sin(theta1) - 1.0*L2*sin(theta1)*cos(theta2) + 0.5*L3*(-sin(theta1)*cos(theta2)*cos(theta3) + 1.0*sin(theta3)*cos(theta1))) + 1.0*m*(-1.0*L2*sin(theta2)*cos(theta1) - 0.5*L3*sin(theta2)*cos(theta1)*cos(theta3))**2 - 0.5*m*(-1.0*L2*sin(theta2)*cos(theta1) - 0.5*L3*sin(theta2)*cos(theta1)*cos(theta3))*(-2.0*L2*cos(theta1)*cos(theta2) - 1.0*L3*cos(theta1)*cos(theta2)*cos(theta3)) + 1.0*m*(-1.0*L1*sin(theta1) - 1.0*L2*sin(theta1)*cos(theta2) + 0.5*L3*(-sin(theta1)*cos(theta2)*cos(theta3) + 1.0*sin(theta3)*cos(theta1)))**2 + 1.0*m*(-1.0*L1*cos(theta1) - 1.0*L2*cos(theta1)*cos(theta2) + 0.5*L3*(-1.0*sin(theta1)*sin(theta3) - cos(theta1)*cos(theta2)*cos(theta3)))*(1.0*L1*cos(theta1) + 1.0*L2*cos(theta1)*cos(theta2) + 0.5*L3*(1.0*sin(theta1)*sin(theta3) + cos(theta1)*cos(theta2)*cos(theta3))),                                                                                                                                                                                                                                                                                                                                                                                                                                                                                                                                                                                                                                                                                                                                                                                                                                                                                                                                                                                                                                                                                                                                                                                                                                                                                                                                                                                                                    0.25*L2**2*m*sin(theta1)**2*sin(theta2)*cos(theta2) - 0.5*L2*m*(1.0*L1*cos(theta1) + 0.5*L2*cos(theta1)*cos(theta2))*sin(theta2)*cos(theta1) + 0.25*L3**2*m*(-sin(theta1)*sin(theta3)*cos(theta2) - 1.0*cos(theta1)*cos(theta3))*sin(theta1)*sin(theta2)*sin(theta3) + 0.5*m*(-1.0*L2*sin(theta1)*sin(theta2) - 0.5*L3*sin(theta1)*sin(theta2)*cos(theta3))*(-2.0*L2*sin(theta1)*cos(theta2) - 1.0*L3*sin(theta1)*cos(theta2)*cos(theta3)) + 0.5*m*(-2.0*L2*sin(theta2)*cos(theta1) - 1.0*L3*sin(theta2)*cos(theta1)*cos(theta3))*(1.0*L1*cos(theta1) + 1.0*L2*cos(theta1)*cos(theta2) + 0.5*L3*(1.0*sin(theta1)*sin(theta3) + cos(theta1)*cos(theta2)*cos(theta3))), 0.25*L2**2*m*sin(theta2)*cos(theta2) + 0.25*L3**2*m*(-sin(theta1)*sin(theta3)*cos(theta2) - 1.0*cos(theta1)*cos(theta3))*sin(theta2)*cos(theta3) + 0.25*L3**2*m*(-sin(theta1)*cos(theta2)*cos(theta3) + 1.0*sin(theta3)*cos(theta1))*sin(theta2)*sin(theta3) - 0.25*L3**2*m*sin(theta2)*sin(theta3)**2*cos(theta2) + 0.5*L3*m*(-1.0*L2*cos(theta2) - 0.5*L3*cos(theta2)*cos(theta3))*sin(theta1)*sin(theta2)*sin(theta3) + 0.5*L3*m*(-1.0*L2*sin(theta1)*sin(theta2) - 0.5*L3*sin(theta1)*sin(theta2)*cos(theta3))*sin(theta3)*cos(theta2) - 0.5*m*(2.0*L2*sin(theta2) + L3*sin(theta2)*cos(theta3))*(-1.0*L2*cos(theta2) - 0.5*L3*cos(theta2)*cos(theta3))],\n",
       "[                                                                                                                                                                                                                                                                                                                                                                                                                                                                                                                                                                                                                                                                                                                                                                                                                                                                                                                                                                                                                                                                          -0.25*L2**2*m*sin(theta1)*sin(theta2)*cos(theta2) - 0.125*L3**2*m*(-2.0*sin(theta1)*sin(theta3) - 2*cos(theta1)*cos(theta2)*cos(theta3))*(1.0*sin(theta1)*cos(theta3) - sin(theta3)*cos(theta1)*cos(theta2)) + 0.25*L3**2*m*(sin(theta1)*sin(theta3)*cos(theta2) + 1.0*cos(theta1)*cos(theta3))*sin(theta2)*sin(theta3) - 0.5*L3*m*(-1.0*L2*sin(theta2)*cos(theta1) - 0.5*L3*sin(theta2)*cos(theta1)*cos(theta3))*sin(theta2)*sin(theta3)*cos(theta1) - 0.5*L3*m*(sin(theta1)*sin(theta3)*cos(theta2) + 1.0*cos(theta1)*cos(theta3))*(-1.0*L1*sin(theta1) - 1.0*L2*sin(theta1)*cos(theta2) + 0.5*L3*(-sin(theta1)*cos(theta2)*cos(theta3) + 1.0*sin(theta3)*cos(theta1))) + 1.0*m*(-1.0*L2*cos(theta2) - 0.5*L3*cos(theta2)*cos(theta3))*(1.0*L2*sin(theta1)*sin(theta2) + 0.5*L3*sin(theta1)*sin(theta2)*cos(theta3)),                                                                                                                                                                                                                                                                                                                                                                                                                                                                                                                                                                                                                                                                                                                                                                                                                                                                                                                                                                                                                          -0.25*L2**2*m*sin(theta1)*sin(theta2)**2 + 0.25*L2**2*m*sin(theta1)*cos(theta2)**2 - 0.125*L3**2*m*(-sin(theta1)*sin(theta3)*cos(theta2) - 1.0*cos(theta1)*cos(theta3))*(-2*sin(theta1)*cos(theta2)*cos(theta3) + 2.0*sin(theta3)*cos(theta1)) + 0.25*L3**2*m*(-sin(theta1)*sin(theta3)*cos(theta2) - 1.0*cos(theta1)*cos(theta3))*sin(theta3)*cos(theta2) + 0.25*L3**2*m*sin(theta1)*sin(theta2)**2*sin(theta3)**2 - 0.5*L3*m*(1.0*sin(theta1)*cos(theta3) - sin(theta3)*cos(theta1)*cos(theta2))*(1.0*L1*cos(theta1) + 1.0*L2*cos(theta1)*cos(theta2) + 0.5*L3*(1.0*sin(theta1)*sin(theta3) + cos(theta1)*cos(theta2)*cos(theta3))) - 0.5*L3*m*(-1.0*L2*sin(theta1)*sin(theta2) - 0.5*L3*sin(theta1)*sin(theta2)*cos(theta3))*sin(theta1)*sin(theta2)*sin(theta3) + 1.0*m*(1.0*L2*sin(theta2) + 0.5*L3*sin(theta2)*cos(theta3))*(-1.0*L2*sin(theta1)*sin(theta2) - 0.5*L3*sin(theta1)*sin(theta2)*cos(theta3)) + 1.0*m*(-1.0*L2*cos(theta2) - 0.5*L3*cos(theta2)*cos(theta3))*(-1.0*L2*sin(theta1)*cos(theta2) - 0.5*L3*sin(theta1)*cos(theta2)*cos(theta3)),                                                                                                                                                                                                                                                                                                                                                                                                                                                                                                               0.25*L3**2*m*sin(theta2)**2*sin(theta3)*cos(theta3) + 0.5*L3*m*(-1.0*L2*cos(theta2) - 0.5*L3*cos(theta2)*cos(theta3))*sin(theta3)*cos(theta2)]])"
      ]
     },
     "execution_count": 38,
     "metadata": {},
     "output_type": "execute_result"
    }
   ],
   "source": [
    "C"
   ]
  },
  {
   "cell_type": "code",
   "execution_count": 39,
   "metadata": {},
   "outputs": [
    {
     "data": {
      "text/latex": [
       "$\\displaystyle \\left[\\begin{matrix}0.5 L_{2}^{2} m \\sin{\\left(\\theta_{2} \\right)} \\cos^{2}{\\left(\\theta_{1} \\right)} \\cos{\\left(\\theta_{2} \\right)} + L_{2} m \\left(- 1.0 L_{1} \\sin{\\left(\\theta_{1} \\right)} - 0.5 L_{2} \\sin{\\left(\\theta_{1} \\right)} \\cos{\\left(\\theta_{2} \\right)}\\right) \\sin{\\left(\\theta_{1} \\right)} \\sin{\\left(\\theta_{2} \\right)} + 0.5 L_{3}^{2} m \\left(1.0 \\sin{\\left(\\theta_{1} \\right)} \\cos{\\left(\\theta_{3} \\right)} - \\sin{\\left(\\theta_{3} \\right)} \\cos{\\left(\\theta_{1} \\right)} \\cos{\\left(\\theta_{2} \\right)}\\right) \\sin{\\left(\\theta_{2} \\right)} \\sin{\\left(\\theta_{3} \\right)} \\cos{\\left(\\theta_{1} \\right)} + m \\left(2.0 L_{2} \\sin{\\left(\\theta_{1} \\right)} \\sin{\\left(\\theta_{2} \\right)} + L_{3} \\sin{\\left(\\theta_{1} \\right)} \\sin{\\left(\\theta_{2} \\right)} \\cos{\\left(\\theta_{3} \\right)}\\right) \\left(- 1.0 L_{1} \\sin{\\left(\\theta_{1} \\right)} - 1.0 L_{2} \\sin{\\left(\\theta_{1} \\right)} \\cos{\\left(\\theta_{2} \\right)} + 0.5 L_{3} \\left(- \\sin{\\left(\\theta_{1} \\right)} \\cos{\\left(\\theta_{2} \\right)} \\cos{\\left(\\theta_{3} \\right)} + 1.0 \\sin{\\left(\\theta_{3} \\right)} \\cos{\\left(\\theta_{1} \\right)}\\right)\\right) + m \\left(- 1.0 L_{2} \\sin{\\left(\\theta_{2} \\right)} \\cos{\\left(\\theta_{1} \\right)} - 0.5 L_{3} \\sin{\\left(\\theta_{2} \\right)} \\cos{\\left(\\theta_{1} \\right)} \\cos{\\left(\\theta_{3} \\right)}\\right) \\left(- 2.0 L_{2} \\cos{\\left(\\theta_{1} \\right)} \\cos{\\left(\\theta_{2} \\right)} - 1.0 L_{3} \\cos{\\left(\\theta_{1} \\right)} \\cos{\\left(\\theta_{2} \\right)} \\cos{\\left(\\theta_{3} \\right)}\\right) & 0.25 L_{3}^{2} m \\left(- 2.0 \\sin{\\left(\\theta_{1} \\right)} \\sin{\\left(\\theta_{3} \\right)} - 2 \\cos{\\left(\\theta_{1} \\right)} \\cos{\\left(\\theta_{2} \\right)} \\cos{\\left(\\theta_{3} \\right)}\\right) \\left(1.0 \\sin{\\left(\\theta_{1} \\right)} \\cos{\\left(\\theta_{3} \\right)} - \\sin{\\left(\\theta_{3} \\right)} \\cos{\\left(\\theta_{1} \\right)} \\cos{\\left(\\theta_{2} \\right)}\\right) + L_{3} m \\left(- 1.0 L_{2} \\sin{\\left(\\theta_{2} \\right)} \\cos{\\left(\\theta_{1} \\right)} - 0.5 L_{3} \\sin{\\left(\\theta_{2} \\right)} \\cos{\\left(\\theta_{1} \\right)} \\cos{\\left(\\theta_{3} \\right)}\\right) \\sin{\\left(\\theta_{2} \\right)} \\sin{\\left(\\theta_{3} \\right)} \\cos{\\left(\\theta_{1} \\right)} + L_{3} m \\left(\\sin{\\left(\\theta_{1} \\right)} \\sin{\\left(\\theta_{3} \\right)} \\cos{\\left(\\theta_{2} \\right)} + 1.0 \\cos{\\left(\\theta_{1} \\right)} \\cos{\\left(\\theta_{3} \\right)}\\right) \\left(- 1.0 L_{1} \\sin{\\left(\\theta_{1} \\right)} - 1.0 L_{2} \\sin{\\left(\\theta_{1} \\right)} \\cos{\\left(\\theta_{2} \\right)} + 0.5 L_{3} \\left(- \\sin{\\left(\\theta_{1} \\right)} \\cos{\\left(\\theta_{2} \\right)} \\cos{\\left(\\theta_{3} \\right)} + 1.0 \\sin{\\left(\\theta_{3} \\right)} \\cos{\\left(\\theta_{1} \\right)}\\right)\\right) & - 0.25 L_{2}^{2} m \\sin^{2}{\\left(\\theta_{2} \\right)} \\cos{\\left(\\theta_{1} \\right)} - 0.25 L_{2}^{2} m \\sin{\\left(\\theta_{2} \\right)} \\cos{\\left(\\theta_{1} \\right)} \\cos{\\left(\\theta_{2} \\right)} + 0.25 L_{2}^{2} m \\cos{\\left(\\theta_{1} \\right)} \\cos^{2}{\\left(\\theta_{2} \\right)} + 0.25 L_{3}^{2} m \\left(- 1.0 \\sin{\\left(\\theta_{1} \\right)} \\sin{\\left(\\theta_{3} \\right)} - \\cos{\\left(\\theta_{1} \\right)} \\cos{\\left(\\theta_{2} \\right)} \\cos{\\left(\\theta_{3} \\right)}\\right) \\left(- \\sin{\\left(\\theta_{1} \\right)} \\sin{\\left(\\theta_{3} \\right)} \\cos{\\left(\\theta_{2} \\right)} - 1.0 \\cos{\\left(\\theta_{1} \\right)} \\cos{\\left(\\theta_{3} \\right)}\\right) + 0.25 L_{3}^{2} m \\left(1.0 \\sin{\\left(\\theta_{1} \\right)} \\cos{\\left(\\theta_{3} \\right)} - \\sin{\\left(\\theta_{3} \\right)} \\cos{\\left(\\theta_{1} \\right)} \\cos{\\left(\\theta_{2} \\right)}\\right) \\left(- \\sin{\\left(\\theta_{1} \\right)} \\cos{\\left(\\theta_{2} \\right)} \\cos{\\left(\\theta_{3} \\right)} + 1.0 \\sin{\\left(\\theta_{3} \\right)} \\cos{\\left(\\theta_{1} \\right)}\\right) - 0.25 L_{3}^{2} m \\left(1.0 \\sin{\\left(\\theta_{1} \\right)} \\cos{\\left(\\theta_{3} \\right)} - \\sin{\\left(\\theta_{3} \\right)} \\cos{\\left(\\theta_{1} \\right)} \\cos{\\left(\\theta_{2} \\right)}\\right) \\sin{\\left(\\theta_{2} \\right)} \\sin{\\left(\\theta_{3} \\right)} + 0.25 L_{3}^{2} m \\left(1.0 \\sin{\\left(\\theta_{1} \\right)} \\cos{\\left(\\theta_{3} \\right)} - \\sin{\\left(\\theta_{3} \\right)} \\cos{\\left(\\theta_{1} \\right)} \\cos{\\left(\\theta_{2} \\right)}\\right) \\sin{\\left(\\theta_{3} \\right)} \\cos{\\left(\\theta_{2} \\right)} + 0.25 L_{3}^{2} m \\sin^{2}{\\left(\\theta_{2} \\right)} \\sin^{2}{\\left(\\theta_{3} \\right)} \\cos{\\left(\\theta_{1} \\right)} + 0.5 L_{3} m \\left(1.0 \\sin{\\left(\\theta_{1} \\right)} \\cos{\\left(\\theta_{3} \\right)} - \\sin{\\left(\\theta_{3} \\right)} \\cos{\\left(\\theta_{1} \\right)} \\cos{\\left(\\theta_{2} \\right)}\\right) \\left(- 1.0 L_{1} \\sin{\\left(\\theta_{1} \\right)} - 1.0 L_{2} \\sin{\\left(\\theta_{1} \\right)} \\cos{\\left(\\theta_{2} \\right)} + 0.5 L_{3} \\left(- \\sin{\\left(\\theta_{1} \\right)} \\cos{\\left(\\theta_{2} \\right)} \\cos{\\left(\\theta_{3} \\right)} + 1.0 \\sin{\\left(\\theta_{3} \\right)} \\cos{\\left(\\theta_{1} \\right)}\\right)\\right) + 0.5 L_{3} m \\left(- 1.0 L_{2} \\sin{\\left(\\theta_{1} \\right)} \\sin{\\left(\\theta_{2} \\right)} - 0.5 L_{3} \\sin{\\left(\\theta_{1} \\right)} \\sin{\\left(\\theta_{2} \\right)} \\cos{\\left(\\theta_{3} \\right)}\\right) \\sin{\\left(\\theta_{2} \\right)} \\sin{\\left(\\theta_{3} \\right)} \\cos{\\left(\\theta_{1} \\right)} + 0.5 L_{3} m \\left(- 1.0 L_{2} \\sin{\\left(\\theta_{2} \\right)} \\cos{\\left(\\theta_{1} \\right)} - 0.5 L_{3} \\sin{\\left(\\theta_{2} \\right)} \\cos{\\left(\\theta_{1} \\right)} \\cos{\\left(\\theta_{3} \\right)}\\right) \\sin{\\left(\\theta_{1} \\right)} \\sin{\\left(\\theta_{2} \\right)} \\sin{\\left(\\theta_{3} \\right)} + 0.5 L_{3} m \\left(\\sin{\\left(\\theta_{1} \\right)} \\sin{\\left(\\theta_{3} \\right)} \\cos{\\left(\\theta_{2} \\right)} + 1.0 \\cos{\\left(\\theta_{1} \\right)} \\cos{\\left(\\theta_{3} \\right)}\\right) \\left(1.0 L_{1} \\cos{\\left(\\theta_{1} \\right)} + 1.0 L_{2} \\cos{\\left(\\theta_{1} \\right)} \\cos{\\left(\\theta_{2} \\right)} + 0.5 L_{3} \\left(1.0 \\sin{\\left(\\theta_{1} \\right)} \\sin{\\left(\\theta_{3} \\right)} + \\cos{\\left(\\theta_{1} \\right)} \\cos{\\left(\\theta_{2} \\right)} \\cos{\\left(\\theta_{3} \\right)}\\right)\\right) + m \\left(1.0 L_{2} \\sin{\\left(\\theta_{2} \\right)} + 0.5 L_{3} \\sin{\\left(\\theta_{2} \\right)} \\cos{\\left(\\theta_{3} \\right)}\\right) \\left(- 1.0 L_{2} \\sin{\\left(\\theta_{2} \\right)} \\cos{\\left(\\theta_{1} \\right)} - 0.5 L_{3} \\sin{\\left(\\theta_{2} \\right)} \\cos{\\left(\\theta_{1} \\right)} \\cos{\\left(\\theta_{3} \\right)}\\right) - 1.0 m \\left(- 1.0 L_{2} \\cos{\\left(\\theta_{2} \\right)} - 0.5 L_{3} \\cos{\\left(\\theta_{2} \\right)} \\cos{\\left(\\theta_{3} \\right)}\\right) \\left(- 1.0 L_{2} \\sin{\\left(\\theta_{2} \\right)} \\cos{\\left(\\theta_{1} \\right)} - 0.5 L_{3} \\sin{\\left(\\theta_{2} \\right)} \\cos{\\left(\\theta_{1} \\right)} \\cos{\\left(\\theta_{3} \\right)}\\right) + m \\left(- 1.0 L_{2} \\cos{\\left(\\theta_{2} \\right)} - 0.5 L_{3} \\cos{\\left(\\theta_{2} \\right)} \\cos{\\left(\\theta_{3} \\right)}\\right) \\left(- 1.0 L_{2} \\cos{\\left(\\theta_{1} \\right)} \\cos{\\left(\\theta_{2} \\right)} - 0.5 L_{3} \\cos{\\left(\\theta_{1} \\right)} \\cos{\\left(\\theta_{2} \\right)} \\cos{\\left(\\theta_{3} \\right)}\\right)\\\\0.5 L_{2}^{2} m \\sin{\\left(\\theta_{1} \\right)} \\sin^{2}{\\left(\\theta_{2} \\right)} \\cos{\\left(\\theta_{1} \\right)} + 0.25 L_{3}^{2} m \\left(2.0 \\sin{\\left(\\theta_{1} \\right)} \\cos{\\left(\\theta_{3} \\right)} - 2 \\sin{\\left(\\theta_{3} \\right)} \\cos{\\left(\\theta_{1} \\right)} \\cos{\\left(\\theta_{2} \\right)}\\right) \\left(- \\sin{\\left(\\theta_{1} \\right)} \\sin{\\left(\\theta_{3} \\right)} \\cos{\\left(\\theta_{2} \\right)} - 1.0 \\cos{\\left(\\theta_{1} \\right)} \\cos{\\left(\\theta_{3} \\right)}\\right) + m \\left(- 2.0 L_{1} \\sin{\\left(\\theta_{1} \\right)} - 1.0 L_{2} \\sin{\\left(\\theta_{1} \\right)} \\cos{\\left(\\theta_{2} \\right)}\\right) \\left(1.0 L_{1} \\cos{\\left(\\theta_{1} \\right)} + 0.5 L_{2} \\cos{\\left(\\theta_{1} \\right)} \\cos{\\left(\\theta_{2} \\right)}\\right) + m \\left(- 1.0 L_{2} \\sin{\\left(\\theta_{1} \\right)} \\sin{\\left(\\theta_{2} \\right)} - 0.5 L_{3} \\sin{\\left(\\theta_{1} \\right)} \\sin{\\left(\\theta_{2} \\right)} \\cos{\\left(\\theta_{3} \\right)}\\right) \\left(- 2.0 L_{2} \\sin{\\left(\\theta_{2} \\right)} \\cos{\\left(\\theta_{1} \\right)} - 1.0 L_{3} \\sin{\\left(\\theta_{2} \\right)} \\cos{\\left(\\theta_{1} \\right)} \\cos{\\left(\\theta_{3} \\right)}\\right) + m \\left(- 2.0 L_{1} \\sin{\\left(\\theta_{1} \\right)} - 2.0 L_{2} \\sin{\\left(\\theta_{1} \\right)} \\cos{\\left(\\theta_{2} \\right)} + L_{3} \\left(- \\sin{\\left(\\theta_{1} \\right)} \\cos{\\left(\\theta_{2} \\right)} \\cos{\\left(\\theta_{3} \\right)} + 1.0 \\sin{\\left(\\theta_{3} \\right)} \\cos{\\left(\\theta_{1} \\right)}\\right)\\right) \\left(1.0 L_{1} \\cos{\\left(\\theta_{1} \\right)} + 1.0 L_{2} \\cos{\\left(\\theta_{1} \\right)} \\cos{\\left(\\theta_{2} \\right)} + 0.5 L_{3} \\left(1.0 \\sin{\\left(\\theta_{1} \\right)} \\sin{\\left(\\theta_{3} \\right)} + \\cos{\\left(\\theta_{1} \\right)} \\cos{\\left(\\theta_{2} \\right)} \\cos{\\left(\\theta_{3} \\right)}\\right)\\right) & 0.25 L_{2}^{2} m \\sin^{2}{\\left(\\theta_{2} \\right)} \\cos{\\left(\\theta_{1} \\right)} + 0.25 L_{2}^{2} m \\sin{\\left(\\theta_{2} \\right)} \\cos{\\left(\\theta_{1} \\right)} \\cos{\\left(\\theta_{2} \\right)} - 0.25 L_{2}^{2} m \\cos{\\left(\\theta_{1} \\right)} \\cos^{2}{\\left(\\theta_{2} \\right)} + 0.25 L_{3}^{2} m \\left(- 1.0 \\sin{\\left(\\theta_{1} \\right)} \\sin{\\left(\\theta_{3} \\right)} - \\cos{\\left(\\theta_{1} \\right)} \\cos{\\left(\\theta_{2} \\right)} \\cos{\\left(\\theta_{3} \\right)}\\right) \\left(- \\sin{\\left(\\theta_{1} \\right)} \\sin{\\left(\\theta_{3} \\right)} \\cos{\\left(\\theta_{2} \\right)} - 1.0 \\cos{\\left(\\theta_{1} \\right)} \\cos{\\left(\\theta_{3} \\right)}\\right) + 0.25 L_{3}^{2} m \\left(1.0 \\sin{\\left(\\theta_{1} \\right)} \\cos{\\left(\\theta_{3} \\right)} - \\sin{\\left(\\theta_{3} \\right)} \\cos{\\left(\\theta_{1} \\right)} \\cos{\\left(\\theta_{2} \\right)}\\right) \\left(- \\sin{\\left(\\theta_{1} \\right)} \\cos{\\left(\\theta_{2} \\right)} \\cos{\\left(\\theta_{3} \\right)} + 1.0 \\sin{\\left(\\theta_{3} \\right)} \\cos{\\left(\\theta_{1} \\right)}\\right) + 0.25 L_{3}^{2} m \\left(1.0 \\sin{\\left(\\theta_{1} \\right)} \\cos{\\left(\\theta_{3} \\right)} - \\sin{\\left(\\theta_{3} \\right)} \\cos{\\left(\\theta_{1} \\right)} \\cos{\\left(\\theta_{2} \\right)}\\right) \\sin{\\left(\\theta_{2} \\right)} \\sin{\\left(\\theta_{3} \\right)} - 0.25 L_{3}^{2} m \\left(1.0 \\sin{\\left(\\theta_{1} \\right)} \\cos{\\left(\\theta_{3} \\right)} - \\sin{\\left(\\theta_{3} \\right)} \\cos{\\left(\\theta_{1} \\right)} \\cos{\\left(\\theta_{2} \\right)}\\right) \\sin{\\left(\\theta_{3} \\right)} \\cos{\\left(\\theta_{2} \\right)} - 0.25 L_{3}^{2} m \\sin^{2}{\\left(\\theta_{2} \\right)} \\sin^{2}{\\left(\\theta_{3} \\right)} \\cos{\\left(\\theta_{1} \\right)} + 0.5 L_{3} m \\left(1.0 \\sin{\\left(\\theta_{1} \\right)} \\cos{\\left(\\theta_{3} \\right)} - \\sin{\\left(\\theta_{3} \\right)} \\cos{\\left(\\theta_{1} \\right)} \\cos{\\left(\\theta_{2} \\right)}\\right) \\left(- 1.0 L_{1} \\sin{\\left(\\theta_{1} \\right)} - 1.0 L_{2} \\sin{\\left(\\theta_{1} \\right)} \\cos{\\left(\\theta_{2} \\right)} + 0.5 L_{3} \\left(- \\sin{\\left(\\theta_{1} \\right)} \\cos{\\left(\\theta_{2} \\right)} \\cos{\\left(\\theta_{3} \\right)} + 1.0 \\sin{\\left(\\theta_{3} \\right)} \\cos{\\left(\\theta_{1} \\right)}\\right)\\right) + 0.5 L_{3} m \\left(- 1.0 L_{2} \\sin{\\left(\\theta_{1} \\right)} \\sin{\\left(\\theta_{2} \\right)} - 0.5 L_{3} \\sin{\\left(\\theta_{1} \\right)} \\sin{\\left(\\theta_{2} \\right)} \\cos{\\left(\\theta_{3} \\right)}\\right) \\sin{\\left(\\theta_{2} \\right)} \\sin{\\left(\\theta_{3} \\right)} \\cos{\\left(\\theta_{1} \\right)} + 0.5 L_{3} m \\left(- 1.0 L_{2} \\sin{\\left(\\theta_{2} \\right)} \\cos{\\left(\\theta_{1} \\right)} - 0.5 L_{3} \\sin{\\left(\\theta_{2} \\right)} \\cos{\\left(\\theta_{1} \\right)} \\cos{\\left(\\theta_{3} \\right)}\\right) \\sin{\\left(\\theta_{1} \\right)} \\sin{\\left(\\theta_{2} \\right)} \\sin{\\left(\\theta_{3} \\right)} + 0.5 L_{3} m \\left(\\sin{\\left(\\theta_{1} \\right)} \\sin{\\left(\\theta_{3} \\right)} \\cos{\\left(\\theta_{2} \\right)} + 1.0 \\cos{\\left(\\theta_{1} \\right)} \\cos{\\left(\\theta_{3} \\right)}\\right) \\left(1.0 L_{1} \\cos{\\left(\\theta_{1} \\right)} + 1.0 L_{2} \\cos{\\left(\\theta_{1} \\right)} \\cos{\\left(\\theta_{2} \\right)} + 0.5 L_{3} \\left(1.0 \\sin{\\left(\\theta_{1} \\right)} \\sin{\\left(\\theta_{3} \\right)} + \\cos{\\left(\\theta_{1} \\right)} \\cos{\\left(\\theta_{2} \\right)} \\cos{\\left(\\theta_{3} \\right)}\\right)\\right) - 1.0 m \\left(1.0 L_{2} \\sin{\\left(\\theta_{2} \\right)} + 0.5 L_{3} \\sin{\\left(\\theta_{2} \\right)} \\cos{\\left(\\theta_{3} \\right)}\\right) \\left(- 1.0 L_{2} \\sin{\\left(\\theta_{2} \\right)} \\cos{\\left(\\theta_{1} \\right)} - 0.5 L_{3} \\sin{\\left(\\theta_{2} \\right)} \\cos{\\left(\\theta_{1} \\right)} \\cos{\\left(\\theta_{3} \\right)}\\right) + m \\left(- 1.0 L_{2} \\cos{\\left(\\theta_{2} \\right)} - 0.5 L_{3} \\cos{\\left(\\theta_{2} \\right)} \\cos{\\left(\\theta_{3} \\right)}\\right) \\left(- 1.0 L_{2} \\sin{\\left(\\theta_{2} \\right)} \\cos{\\left(\\theta_{1} \\right)} - 0.5 L_{3} \\sin{\\left(\\theta_{2} \\right)} \\cos{\\left(\\theta_{1} \\right)} \\cos{\\left(\\theta_{3} \\right)}\\right) - 1.0 m \\left(- 1.0 L_{2} \\cos{\\left(\\theta_{2} \\right)} - 0.5 L_{3} \\cos{\\left(\\theta_{2} \\right)} \\cos{\\left(\\theta_{3} \\right)}\\right) \\left(- 1.0 L_{2} \\cos{\\left(\\theta_{1} \\right)} \\cos{\\left(\\theta_{2} \\right)} - 0.5 L_{3} \\cos{\\left(\\theta_{1} \\right)} \\cos{\\left(\\theta_{2} \\right)} \\cos{\\left(\\theta_{3} \\right)}\\right) & 0.25 L_{3}^{2} m \\left(- \\sin{\\left(\\theta_{1} \\right)} \\sin{\\left(\\theta_{3} \\right)} \\cos{\\left(\\theta_{2} \\right)} - 1.0 \\cos{\\left(\\theta_{1} \\right)} \\cos{\\left(\\theta_{3} \\right)}\\right) \\left(- 2 \\sin{\\left(\\theta_{1} \\right)} \\cos{\\left(\\theta_{2} \\right)} \\cos{\\left(\\theta_{3} \\right)} + 2.0 \\sin{\\left(\\theta_{3} \\right)} \\cos{\\left(\\theta_{1} \\right)}\\right) + L_{3} m \\left(1.0 \\sin{\\left(\\theta_{1} \\right)} \\cos{\\left(\\theta_{3} \\right)} - \\sin{\\left(\\theta_{3} \\right)} \\cos{\\left(\\theta_{1} \\right)} \\cos{\\left(\\theta_{2} \\right)}\\right) \\left(1.0 L_{1} \\cos{\\left(\\theta_{1} \\right)} + 1.0 L_{2} \\cos{\\left(\\theta_{1} \\right)} \\cos{\\left(\\theta_{2} \\right)} + 0.5 L_{3} \\left(1.0 \\sin{\\left(\\theta_{1} \\right)} \\sin{\\left(\\theta_{3} \\right)} + \\cos{\\left(\\theta_{1} \\right)} \\cos{\\left(\\theta_{2} \\right)} \\cos{\\left(\\theta_{3} \\right)}\\right)\\right) + L_{3} m \\left(- 1.0 L_{2} \\sin{\\left(\\theta_{1} \\right)} \\sin{\\left(\\theta_{2} \\right)} - 0.5 L_{3} \\sin{\\left(\\theta_{1} \\right)} \\sin{\\left(\\theta_{2} \\right)} \\cos{\\left(\\theta_{3} \\right)}\\right) \\sin{\\left(\\theta_{1} \\right)} \\sin{\\left(\\theta_{2} \\right)} \\sin{\\left(\\theta_{3} \\right)}\\\\- 0.25 L_{2}^{2} m \\sin^{2}{\\left(\\theta_{2} \\right)} \\cos{\\left(\\theta_{1} \\right)} + 0.25 L_{2}^{2} m \\sin{\\left(\\theta_{2} \\right)} \\cos{\\left(\\theta_{1} \\right)} \\cos{\\left(\\theta_{2} \\right)} + 0.25 L_{2}^{2} m \\cos{\\left(\\theta_{1} \\right)} \\cos^{2}{\\left(\\theta_{2} \\right)} - 0.25 L_{3}^{2} m \\left(- 1.0 \\sin{\\left(\\theta_{1} \\right)} \\sin{\\left(\\theta_{3} \\right)} - \\cos{\\left(\\theta_{1} \\right)} \\cos{\\left(\\theta_{2} \\right)} \\cos{\\left(\\theta_{3} \\right)}\\right) \\left(- \\sin{\\left(\\theta_{1} \\right)} \\sin{\\left(\\theta_{3} \\right)} \\cos{\\left(\\theta_{2} \\right)} - 1.0 \\cos{\\left(\\theta_{1} \\right)} \\cos{\\left(\\theta_{3} \\right)}\\right) - 0.25 L_{3}^{2} m \\left(1.0 \\sin{\\left(\\theta_{1} \\right)} \\cos{\\left(\\theta_{3} \\right)} - \\sin{\\left(\\theta_{3} \\right)} \\cos{\\left(\\theta_{1} \\right)} \\cos{\\left(\\theta_{2} \\right)}\\right) \\left(- \\sin{\\left(\\theta_{1} \\right)} \\cos{\\left(\\theta_{2} \\right)} \\cos{\\left(\\theta_{3} \\right)} + 1.0 \\sin{\\left(\\theta_{3} \\right)} \\cos{\\left(\\theta_{1} \\right)}\\right) + 0.25 L_{3}^{2} m \\left(1.0 \\sin{\\left(\\theta_{1} \\right)} \\cos{\\left(\\theta_{3} \\right)} - \\sin{\\left(\\theta_{3} \\right)} \\cos{\\left(\\theta_{1} \\right)} \\cos{\\left(\\theta_{2} \\right)}\\right) \\sin{\\left(\\theta_{2} \\right)} \\sin{\\left(\\theta_{3} \\right)} + 0.25 L_{3}^{2} m \\left(1.0 \\sin{\\left(\\theta_{1} \\right)} \\cos{\\left(\\theta_{3} \\right)} - \\sin{\\left(\\theta_{3} \\right)} \\cos{\\left(\\theta_{1} \\right)} \\cos{\\left(\\theta_{2} \\right)}\\right) \\sin{\\left(\\theta_{3} \\right)} \\cos{\\left(\\theta_{2} \\right)} + 0.25 L_{3}^{2} m \\sin^{2}{\\left(\\theta_{2} \\right)} \\sin^{2}{\\left(\\theta_{3} \\right)} \\cos{\\left(\\theta_{1} \\right)} - 0.5 L_{3} m \\left(1.0 \\sin{\\left(\\theta_{1} \\right)} \\cos{\\left(\\theta_{3} \\right)} - \\sin{\\left(\\theta_{3} \\right)} \\cos{\\left(\\theta_{1} \\right)} \\cos{\\left(\\theta_{2} \\right)}\\right) \\left(- 1.0 L_{1} \\sin{\\left(\\theta_{1} \\right)} - 1.0 L_{2} \\sin{\\left(\\theta_{1} \\right)} \\cos{\\left(\\theta_{2} \\right)} + 0.5 L_{3} \\left(- \\sin{\\left(\\theta_{1} \\right)} \\cos{\\left(\\theta_{2} \\right)} \\cos{\\left(\\theta_{3} \\right)} + 1.0 \\sin{\\left(\\theta_{3} \\right)} \\cos{\\left(\\theta_{1} \\right)}\\right)\\right) - 0.5 L_{3} m \\left(- 1.0 L_{2} \\sin{\\left(\\theta_{1} \\right)} \\sin{\\left(\\theta_{2} \\right)} - 0.5 L_{3} \\sin{\\left(\\theta_{1} \\right)} \\sin{\\left(\\theta_{2} \\right)} \\cos{\\left(\\theta_{3} \\right)}\\right) \\sin{\\left(\\theta_{2} \\right)} \\sin{\\left(\\theta_{3} \\right)} \\cos{\\left(\\theta_{1} \\right)} - 0.5 L_{3} m \\left(- 1.0 L_{2} \\sin{\\left(\\theta_{2} \\right)} \\cos{\\left(\\theta_{1} \\right)} - 0.5 L_{3} \\sin{\\left(\\theta_{2} \\right)} \\cos{\\left(\\theta_{1} \\right)} \\cos{\\left(\\theta_{3} \\right)}\\right) \\sin{\\left(\\theta_{1} \\right)} \\sin{\\left(\\theta_{2} \\right)} \\sin{\\left(\\theta_{3} \\right)} - 0.5 L_{3} m \\left(\\sin{\\left(\\theta_{1} \\right)} \\sin{\\left(\\theta_{3} \\right)} \\cos{\\left(\\theta_{2} \\right)} + 1.0 \\cos{\\left(\\theta_{1} \\right)} \\cos{\\left(\\theta_{3} \\right)}\\right) \\left(1.0 L_{1} \\cos{\\left(\\theta_{1} \\right)} + 1.0 L_{2} \\cos{\\left(\\theta_{1} \\right)} \\cos{\\left(\\theta_{2} \\right)} + 0.5 L_{3} \\left(1.0 \\sin{\\left(\\theta_{1} \\right)} \\sin{\\left(\\theta_{3} \\right)} + \\cos{\\left(\\theta_{1} \\right)} \\cos{\\left(\\theta_{2} \\right)} \\cos{\\left(\\theta_{3} \\right)}\\right)\\right) + m \\left(1.0 L_{2} \\sin{\\left(\\theta_{2} \\right)} + 0.5 L_{3} \\sin{\\left(\\theta_{2} \\right)} \\cos{\\left(\\theta_{3} \\right)}\\right) \\left(- 1.0 L_{2} \\sin{\\left(\\theta_{2} \\right)} \\cos{\\left(\\theta_{1} \\right)} - 0.5 L_{3} \\sin{\\left(\\theta_{2} \\right)} \\cos{\\left(\\theta_{1} \\right)} \\cos{\\left(\\theta_{3} \\right)}\\right) + m \\left(- 1.0 L_{2} \\cos{\\left(\\theta_{2} \\right)} - 0.5 L_{3} \\cos{\\left(\\theta_{2} \\right)} \\cos{\\left(\\theta_{3} \\right)}\\right) \\left(- 1.0 L_{2} \\sin{\\left(\\theta_{2} \\right)} \\cos{\\left(\\theta_{1} \\right)} - 0.5 L_{3} \\sin{\\left(\\theta_{2} \\right)} \\cos{\\left(\\theta_{1} \\right)} \\cos{\\left(\\theta_{3} \\right)}\\right) + m \\left(- 1.0 L_{2} \\cos{\\left(\\theta_{2} \\right)} - 0.5 L_{3} \\cos{\\left(\\theta_{2} \\right)} \\cos{\\left(\\theta_{3} \\right)}\\right) \\left(- 1.0 L_{2} \\cos{\\left(\\theta_{1} \\right)} \\cos{\\left(\\theta_{2} \\right)} - 0.5 L_{3} \\cos{\\left(\\theta_{1} \\right)} \\cos{\\left(\\theta_{2} \\right)} \\cos{\\left(\\theta_{3} \\right)}\\right) & 0 & - 0.5 L_{2}^{2} m \\sin{\\left(\\theta_{2} \\right)} \\cos{\\left(\\theta_{2} \\right)} + 0.5 L_{3}^{2} m \\sin{\\left(\\theta_{2} \\right)} \\sin^{2}{\\left(\\theta_{3} \\right)} \\cos{\\left(\\theta_{2} \\right)} + m \\left(2.0 L_{2} \\sin{\\left(\\theta_{2} \\right)} + L_{3} \\sin{\\left(\\theta_{2} \\right)} \\cos{\\left(\\theta_{3} \\right)}\\right) \\left(- 1.0 L_{2} \\cos{\\left(\\theta_{2} \\right)} - 0.5 L_{3} \\cos{\\left(\\theta_{2} \\right)} \\cos{\\left(\\theta_{3} \\right)}\\right)\\end{matrix}\\right]$"
      ],
      "text/plain": [
       "Matrix([\n",
       "[                                                                                                                                                                                                                                                                                                                                                                                                                                                                                                                                                                                                                                                                                                                                                                                                                                                                                                                                                                                                                                                                                                                                                                                                                 0.5*L2**2*m*sin(theta2)*cos(theta1)**2*cos(theta2) + L2*m*(-1.0*L1*sin(theta1) - 0.5*L2*sin(theta1)*cos(theta2))*sin(theta1)*sin(theta2) + 0.5*L3**2*m*(1.0*sin(theta1)*cos(theta3) - sin(theta3)*cos(theta1)*cos(theta2))*sin(theta2)*sin(theta3)*cos(theta1) + m*(2.0*L2*sin(theta1)*sin(theta2) + L3*sin(theta1)*sin(theta2)*cos(theta3))*(-1.0*L1*sin(theta1) - 1.0*L2*sin(theta1)*cos(theta2) + 0.5*L3*(-sin(theta1)*cos(theta2)*cos(theta3) + 1.0*sin(theta3)*cos(theta1))) + m*(-1.0*L2*sin(theta2)*cos(theta1) - 0.5*L3*sin(theta2)*cos(theta1)*cos(theta3))*(-2.0*L2*cos(theta1)*cos(theta2) - 1.0*L3*cos(theta1)*cos(theta2)*cos(theta3)),                                                                                                                                                                                                                                                                                                                                                                                                                                                                                                                                                                                                                                                                                                                                                                                                                                                                                                                                                                                                                                                                                                                                                                                                                                                                                                                                                                           0.25*L3**2*m*(-2.0*sin(theta1)*sin(theta3) - 2*cos(theta1)*cos(theta2)*cos(theta3))*(1.0*sin(theta1)*cos(theta3) - sin(theta3)*cos(theta1)*cos(theta2)) + L3*m*(-1.0*L2*sin(theta2)*cos(theta1) - 0.5*L3*sin(theta2)*cos(theta1)*cos(theta3))*sin(theta2)*sin(theta3)*cos(theta1) + L3*m*(sin(theta1)*sin(theta3)*cos(theta2) + 1.0*cos(theta1)*cos(theta3))*(-1.0*L1*sin(theta1) - 1.0*L2*sin(theta1)*cos(theta2) + 0.5*L3*(-sin(theta1)*cos(theta2)*cos(theta3) + 1.0*sin(theta3)*cos(theta1))), -0.25*L2**2*m*sin(theta2)**2*cos(theta1) - 0.25*L2**2*m*sin(theta2)*cos(theta1)*cos(theta2) + 0.25*L2**2*m*cos(theta1)*cos(theta2)**2 + 0.25*L3**2*m*(-1.0*sin(theta1)*sin(theta3) - cos(theta1)*cos(theta2)*cos(theta3))*(-sin(theta1)*sin(theta3)*cos(theta2) - 1.0*cos(theta1)*cos(theta3)) + 0.25*L3**2*m*(1.0*sin(theta1)*cos(theta3) - sin(theta3)*cos(theta1)*cos(theta2))*(-sin(theta1)*cos(theta2)*cos(theta3) + 1.0*sin(theta3)*cos(theta1)) - 0.25*L3**2*m*(1.0*sin(theta1)*cos(theta3) - sin(theta3)*cos(theta1)*cos(theta2))*sin(theta2)*sin(theta3) + 0.25*L3**2*m*(1.0*sin(theta1)*cos(theta3) - sin(theta3)*cos(theta1)*cos(theta2))*sin(theta3)*cos(theta2) + 0.25*L3**2*m*sin(theta2)**2*sin(theta3)**2*cos(theta1) + 0.5*L3*m*(1.0*sin(theta1)*cos(theta3) - sin(theta3)*cos(theta1)*cos(theta2))*(-1.0*L1*sin(theta1) - 1.0*L2*sin(theta1)*cos(theta2) + 0.5*L3*(-sin(theta1)*cos(theta2)*cos(theta3) + 1.0*sin(theta3)*cos(theta1))) + 0.5*L3*m*(-1.0*L2*sin(theta1)*sin(theta2) - 0.5*L3*sin(theta1)*sin(theta2)*cos(theta3))*sin(theta2)*sin(theta3)*cos(theta1) + 0.5*L3*m*(-1.0*L2*sin(theta2)*cos(theta1) - 0.5*L3*sin(theta2)*cos(theta1)*cos(theta3))*sin(theta1)*sin(theta2)*sin(theta3) + 0.5*L3*m*(sin(theta1)*sin(theta3)*cos(theta2) + 1.0*cos(theta1)*cos(theta3))*(1.0*L1*cos(theta1) + 1.0*L2*cos(theta1)*cos(theta2) + 0.5*L3*(1.0*sin(theta1)*sin(theta3) + cos(theta1)*cos(theta2)*cos(theta3))) + m*(1.0*L2*sin(theta2) + 0.5*L3*sin(theta2)*cos(theta3))*(-1.0*L2*sin(theta2)*cos(theta1) - 0.5*L3*sin(theta2)*cos(theta1)*cos(theta3)) - 1.0*m*(-1.0*L2*cos(theta2) - 0.5*L3*cos(theta2)*cos(theta3))*(-1.0*L2*sin(theta2)*cos(theta1) - 0.5*L3*sin(theta2)*cos(theta1)*cos(theta3)) + m*(-1.0*L2*cos(theta2) - 0.5*L3*cos(theta2)*cos(theta3))*(-1.0*L2*cos(theta1)*cos(theta2) - 0.5*L3*cos(theta1)*cos(theta2)*cos(theta3))],\n",
       "[                                                                                                                                                                                                                                                                                                                                                                                                                                                                                                                                                                                                                                                                                                                                                                                                                                                                                                                                                                                                                                                                                             0.5*L2**2*m*sin(theta1)*sin(theta2)**2*cos(theta1) + 0.25*L3**2*m*(2.0*sin(theta1)*cos(theta3) - 2*sin(theta3)*cos(theta1)*cos(theta2))*(-sin(theta1)*sin(theta3)*cos(theta2) - 1.0*cos(theta1)*cos(theta3)) + m*(-2.0*L1*sin(theta1) - 1.0*L2*sin(theta1)*cos(theta2))*(1.0*L1*cos(theta1) + 0.5*L2*cos(theta1)*cos(theta2)) + m*(-1.0*L2*sin(theta1)*sin(theta2) - 0.5*L3*sin(theta1)*sin(theta2)*cos(theta3))*(-2.0*L2*sin(theta2)*cos(theta1) - 1.0*L3*sin(theta2)*cos(theta1)*cos(theta3)) + m*(-2.0*L1*sin(theta1) - 2.0*L2*sin(theta1)*cos(theta2) + L3*(-sin(theta1)*cos(theta2)*cos(theta3) + 1.0*sin(theta3)*cos(theta1)))*(1.0*L1*cos(theta1) + 1.0*L2*cos(theta1)*cos(theta2) + 0.5*L3*(1.0*sin(theta1)*sin(theta3) + cos(theta1)*cos(theta2)*cos(theta3))), 0.25*L2**2*m*sin(theta2)**2*cos(theta1) + 0.25*L2**2*m*sin(theta2)*cos(theta1)*cos(theta2) - 0.25*L2**2*m*cos(theta1)*cos(theta2)**2 + 0.25*L3**2*m*(-1.0*sin(theta1)*sin(theta3) - cos(theta1)*cos(theta2)*cos(theta3))*(-sin(theta1)*sin(theta3)*cos(theta2) - 1.0*cos(theta1)*cos(theta3)) + 0.25*L3**2*m*(1.0*sin(theta1)*cos(theta3) - sin(theta3)*cos(theta1)*cos(theta2))*(-sin(theta1)*cos(theta2)*cos(theta3) + 1.0*sin(theta3)*cos(theta1)) + 0.25*L3**2*m*(1.0*sin(theta1)*cos(theta3) - sin(theta3)*cos(theta1)*cos(theta2))*sin(theta2)*sin(theta3) - 0.25*L3**2*m*(1.0*sin(theta1)*cos(theta3) - sin(theta3)*cos(theta1)*cos(theta2))*sin(theta3)*cos(theta2) - 0.25*L3**2*m*sin(theta2)**2*sin(theta3)**2*cos(theta1) + 0.5*L3*m*(1.0*sin(theta1)*cos(theta3) - sin(theta3)*cos(theta1)*cos(theta2))*(-1.0*L1*sin(theta1) - 1.0*L2*sin(theta1)*cos(theta2) + 0.5*L3*(-sin(theta1)*cos(theta2)*cos(theta3) + 1.0*sin(theta3)*cos(theta1))) + 0.5*L3*m*(-1.0*L2*sin(theta1)*sin(theta2) - 0.5*L3*sin(theta1)*sin(theta2)*cos(theta3))*sin(theta2)*sin(theta3)*cos(theta1) + 0.5*L3*m*(-1.0*L2*sin(theta2)*cos(theta1) - 0.5*L3*sin(theta2)*cos(theta1)*cos(theta3))*sin(theta1)*sin(theta2)*sin(theta3) + 0.5*L3*m*(sin(theta1)*sin(theta3)*cos(theta2) + 1.0*cos(theta1)*cos(theta3))*(1.0*L1*cos(theta1) + 1.0*L2*cos(theta1)*cos(theta2) + 0.5*L3*(1.0*sin(theta1)*sin(theta3) + cos(theta1)*cos(theta2)*cos(theta3))) - 1.0*m*(1.0*L2*sin(theta2) + 0.5*L3*sin(theta2)*cos(theta3))*(-1.0*L2*sin(theta2)*cos(theta1) - 0.5*L3*sin(theta2)*cos(theta1)*cos(theta3)) + m*(-1.0*L2*cos(theta2) - 0.5*L3*cos(theta2)*cos(theta3))*(-1.0*L2*sin(theta2)*cos(theta1) - 0.5*L3*sin(theta2)*cos(theta1)*cos(theta3)) - 1.0*m*(-1.0*L2*cos(theta2) - 0.5*L3*cos(theta2)*cos(theta3))*(-1.0*L2*cos(theta1)*cos(theta2) - 0.5*L3*cos(theta1)*cos(theta2)*cos(theta3)),                                                                                                                                                                                                                                                                                                                                                                                                                                                                                                                                                                                                                                                                                                                                                                                                                                                                                                                                                                                                                                                                                                                                                                                                                                                                                                                                                                         0.25*L3**2*m*(-sin(theta1)*sin(theta3)*cos(theta2) - 1.0*cos(theta1)*cos(theta3))*(-2*sin(theta1)*cos(theta2)*cos(theta3) + 2.0*sin(theta3)*cos(theta1)) + L3*m*(1.0*sin(theta1)*cos(theta3) - sin(theta3)*cos(theta1)*cos(theta2))*(1.0*L1*cos(theta1) + 1.0*L2*cos(theta1)*cos(theta2) + 0.5*L3*(1.0*sin(theta1)*sin(theta3) + cos(theta1)*cos(theta2)*cos(theta3))) + L3*m*(-1.0*L2*sin(theta1)*sin(theta2) - 0.5*L3*sin(theta1)*sin(theta2)*cos(theta3))*sin(theta1)*sin(theta2)*sin(theta3)],\n",
       "[-0.25*L2**2*m*sin(theta2)**2*cos(theta1) + 0.25*L2**2*m*sin(theta2)*cos(theta1)*cos(theta2) + 0.25*L2**2*m*cos(theta1)*cos(theta2)**2 - 0.25*L3**2*m*(-1.0*sin(theta1)*sin(theta3) - cos(theta1)*cos(theta2)*cos(theta3))*(-sin(theta1)*sin(theta3)*cos(theta2) - 1.0*cos(theta1)*cos(theta3)) - 0.25*L3**2*m*(1.0*sin(theta1)*cos(theta3) - sin(theta3)*cos(theta1)*cos(theta2))*(-sin(theta1)*cos(theta2)*cos(theta3) + 1.0*sin(theta3)*cos(theta1)) + 0.25*L3**2*m*(1.0*sin(theta1)*cos(theta3) - sin(theta3)*cos(theta1)*cos(theta2))*sin(theta2)*sin(theta3) + 0.25*L3**2*m*(1.0*sin(theta1)*cos(theta3) - sin(theta3)*cos(theta1)*cos(theta2))*sin(theta3)*cos(theta2) + 0.25*L3**2*m*sin(theta2)**2*sin(theta3)**2*cos(theta1) - 0.5*L3*m*(1.0*sin(theta1)*cos(theta3) - sin(theta3)*cos(theta1)*cos(theta2))*(-1.0*L1*sin(theta1) - 1.0*L2*sin(theta1)*cos(theta2) + 0.5*L3*(-sin(theta1)*cos(theta2)*cos(theta3) + 1.0*sin(theta3)*cos(theta1))) - 0.5*L3*m*(-1.0*L2*sin(theta1)*sin(theta2) - 0.5*L3*sin(theta1)*sin(theta2)*cos(theta3))*sin(theta2)*sin(theta3)*cos(theta1) - 0.5*L3*m*(-1.0*L2*sin(theta2)*cos(theta1) - 0.5*L3*sin(theta2)*cos(theta1)*cos(theta3))*sin(theta1)*sin(theta2)*sin(theta3) - 0.5*L3*m*(sin(theta1)*sin(theta3)*cos(theta2) + 1.0*cos(theta1)*cos(theta3))*(1.0*L1*cos(theta1) + 1.0*L2*cos(theta1)*cos(theta2) + 0.5*L3*(1.0*sin(theta1)*sin(theta3) + cos(theta1)*cos(theta2)*cos(theta3))) + m*(1.0*L2*sin(theta2) + 0.5*L3*sin(theta2)*cos(theta3))*(-1.0*L2*sin(theta2)*cos(theta1) - 0.5*L3*sin(theta2)*cos(theta1)*cos(theta3)) + m*(-1.0*L2*cos(theta2) - 0.5*L3*cos(theta2)*cos(theta3))*(-1.0*L2*sin(theta2)*cos(theta1) - 0.5*L3*sin(theta2)*cos(theta1)*cos(theta3)) + m*(-1.0*L2*cos(theta2) - 0.5*L3*cos(theta2)*cos(theta3))*(-1.0*L2*cos(theta1)*cos(theta2) - 0.5*L3*cos(theta1)*cos(theta2)*cos(theta3)),                                                                                                                                                                                                                                                                                                                                                                                                                                                                                                                                                                                                                                                                                                                                                                                                                                                                                                                                                                                                                                                                                                                                                                                                                                                                                                                                                                                                                                                                                                                                                                                                                                                                                                                                                                                                                                                                           0,                                                                                                                                                                                                                                                                                                                                                                                                                                                                                                                                                                                                                                                                                                                                                                                                                                                                                                                                                                                                                                                                                                                                                                                                                                                                                                                                                                                                                                                                                                                                                                                                                                                                   -0.5*L2**2*m*sin(theta2)*cos(theta2) + 0.5*L3**2*m*sin(theta2)*sin(theta3)**2*cos(theta2) + m*(2.0*L2*sin(theta2) + L3*sin(theta2)*cos(theta3))*(-1.0*L2*cos(theta2) - 0.5*L3*cos(theta2)*cos(theta3))]])"
      ]
     },
     "execution_count": 39,
     "metadata": {},
     "output_type": "execute_result"
    }
   ],
   "source": [
    "B"
   ]
  },
  {
   "cell_type": "code",
   "execution_count": 40,
   "metadata": {},
   "outputs": [],
   "source": [
    "# Gravity matrix"
   ]
  },
  {
   "cell_type": "code",
   "execution_count": 41,
   "metadata": {},
   "outputs": [
    {
     "data": {
      "text/latex": [
       "$\\displaystyle \\left[\\begin{matrix}0.5 L_{3} g m \\left(1.0 \\sin{\\left(\\theta_{1} \\right)} \\cos{\\left(\\theta_{3} \\right)} - \\sin{\\left(\\theta_{3} \\right)} \\cos{\\left(\\theta_{1} \\right)} \\cos{\\left(\\theta_{2} \\right)}\\right)\\\\0.5 L_{3} g m \\left(- \\sin{\\left(\\theta_{1} \\right)} \\sin{\\left(\\theta_{3} \\right)} \\cos{\\left(\\theta_{2} \\right)} - 1.0 \\cos{\\left(\\theta_{1} \\right)} \\cos{\\left(\\theta_{3} \\right)}\\right)\\\\0.5 L_{3} g m \\sin{\\left(\\theta_{2} \\right)} \\sin{\\left(\\theta_{3} \\right)}\\end{matrix}\\right]$"
      ],
      "text/plain": [
       "Matrix([\n",
       "[ 0.5*L3*g*m*(1.0*sin(theta1)*cos(theta3) - sin(theta3)*cos(theta1)*cos(theta2))],\n",
       "[0.5*L3*g*m*(-sin(theta1)*sin(theta3)*cos(theta2) - 1.0*cos(theta1)*cos(theta3))],\n",
       "[                                             0.5*L3*g*m*sin(theta2)*sin(theta3)]])"
      ]
     },
     "execution_count": 41,
     "metadata": {},
     "output_type": "execute_result"
    }
   ],
   "source": [
    "G"
   ]
  },
  {
   "cell_type": "code",
   "execution_count": 42,
   "metadata": {},
   "outputs": [],
   "source": [
    "#mass_matrix"
   ]
  },
  {
   "cell_type": "code",
   "execution_count": 43,
   "metadata": {},
   "outputs": [
    {
     "data": {
      "text/latex": [
       "$\\displaystyle \\left[\\begin{matrix}0.25 L_{2}^{2} m \\sin^{2}{\\left(\\theta_{2} \\right)} \\cos^{2}{\\left(\\theta_{1} \\right)} + 0.25 L_{3}^{2} m \\left(1.0 \\sin{\\left(\\theta_{1} \\right)} \\cos{\\left(\\theta_{3} \\right)} - \\sin{\\left(\\theta_{3} \\right)} \\cos{\\left(\\theta_{1} \\right)} \\cos{\\left(\\theta_{2} \\right)}\\right)^{2} + \\frac{m \\left(L_{1}^{2} + h^{2}\\right)}{4} + m \\left(- 1.0 L_{1} \\sin{\\left(\\theta_{1} \\right)} - 0.5 L_{2} \\sin{\\left(\\theta_{1} \\right)} \\cos{\\left(\\theta_{2} \\right)}\\right)^{2} + m \\left(- 1.0 L_{2} \\sin{\\left(\\theta_{2} \\right)} \\cos{\\left(\\theta_{1} \\right)} - 0.5 L_{3} \\sin{\\left(\\theta_{2} \\right)} \\cos{\\left(\\theta_{1} \\right)} \\cos{\\left(\\theta_{3} \\right)}\\right)^{2} + m \\left(- 1.0 L_{1} \\sin{\\left(\\theta_{1} \\right)} - 1.0 L_{2} \\sin{\\left(\\theta_{1} \\right)} \\cos{\\left(\\theta_{2} \\right)} + 0.5 L_{3} \\left(- \\sin{\\left(\\theta_{1} \\right)} \\cos{\\left(\\theta_{2} \\right)} \\cos{\\left(\\theta_{3} \\right)} + 1.0 \\sin{\\left(\\theta_{3} \\right)} \\cos{\\left(\\theta_{1} \\right)}\\right)\\right)^{2} & 0.25 L_{2}^{2} m \\sin{\\left(\\theta_{1} \\right)} \\sin^{2}{\\left(\\theta_{2} \\right)} \\cos{\\left(\\theta_{1} \\right)} + 0.25 L_{3}^{2} m \\left(1.0 \\sin{\\left(\\theta_{1} \\right)} \\cos{\\left(\\theta_{3} \\right)} - \\sin{\\left(\\theta_{3} \\right)} \\cos{\\left(\\theta_{1} \\right)} \\cos{\\left(\\theta_{2} \\right)}\\right) \\left(- \\sin{\\left(\\theta_{1} \\right)} \\sin{\\left(\\theta_{3} \\right)} \\cos{\\left(\\theta_{2} \\right)} - 1.0 \\cos{\\left(\\theta_{1} \\right)} \\cos{\\left(\\theta_{3} \\right)}\\right) + m \\left(- 1.0 L_{1} \\sin{\\left(\\theta_{1} \\right)} - 0.5 L_{2} \\sin{\\left(\\theta_{1} \\right)} \\cos{\\left(\\theta_{2} \\right)}\\right) \\left(1.0 L_{1} \\cos{\\left(\\theta_{1} \\right)} + 0.5 L_{2} \\cos{\\left(\\theta_{1} \\right)} \\cos{\\left(\\theta_{2} \\right)}\\right) + m \\left(- 1.0 L_{2} \\sin{\\left(\\theta_{1} \\right)} \\sin{\\left(\\theta_{2} \\right)} - 0.5 L_{3} \\sin{\\left(\\theta_{1} \\right)} \\sin{\\left(\\theta_{2} \\right)} \\cos{\\left(\\theta_{3} \\right)}\\right) \\left(- 1.0 L_{2} \\sin{\\left(\\theta_{2} \\right)} \\cos{\\left(\\theta_{1} \\right)} - 0.5 L_{3} \\sin{\\left(\\theta_{2} \\right)} \\cos{\\left(\\theta_{1} \\right)} \\cos{\\left(\\theta_{3} \\right)}\\right) + m \\left(- 1.0 L_{1} \\sin{\\left(\\theta_{1} \\right)} - 1.0 L_{2} \\sin{\\left(\\theta_{1} \\right)} \\cos{\\left(\\theta_{2} \\right)} + 0.5 L_{3} \\left(- \\sin{\\left(\\theta_{1} \\right)} \\cos{\\left(\\theta_{2} \\right)} \\cos{\\left(\\theta_{3} \\right)} + 1.0 \\sin{\\left(\\theta_{3} \\right)} \\cos{\\left(\\theta_{1} \\right)}\\right)\\right) \\left(1.0 L_{1} \\cos{\\left(\\theta_{1} \\right)} + 1.0 L_{2} \\cos{\\left(\\theta_{1} \\right)} \\cos{\\left(\\theta_{2} \\right)} + 0.5 L_{3} \\left(1.0 \\sin{\\left(\\theta_{1} \\right)} \\sin{\\left(\\theta_{3} \\right)} + \\cos{\\left(\\theta_{1} \\right)} \\cos{\\left(\\theta_{2} \\right)} \\cos{\\left(\\theta_{3} \\right)}\\right)\\right) & 0.25 L_{2}^{2} m \\sin{\\left(\\theta_{2} \\right)} \\cos{\\left(\\theta_{1} \\right)} \\cos{\\left(\\theta_{2} \\right)} + 0.25 L_{3}^{2} m \\left(1.0 \\sin{\\left(\\theta_{1} \\right)} \\cos{\\left(\\theta_{3} \\right)} - \\sin{\\left(\\theta_{3} \\right)} \\cos{\\left(\\theta_{1} \\right)} \\cos{\\left(\\theta_{2} \\right)}\\right) \\sin{\\left(\\theta_{2} \\right)} \\sin{\\left(\\theta_{3} \\right)} + m \\left(- 1.0 L_{2} \\cos{\\left(\\theta_{2} \\right)} - 0.5 L_{3} \\cos{\\left(\\theta_{2} \\right)} \\cos{\\left(\\theta_{3} \\right)}\\right) \\left(- 1.0 L_{2} \\sin{\\left(\\theta_{2} \\right)} \\cos{\\left(\\theta_{1} \\right)} - 0.5 L_{3} \\sin{\\left(\\theta_{2} \\right)} \\cos{\\left(\\theta_{1} \\right)} \\cos{\\left(\\theta_{3} \\right)}\\right)\\\\0.25 L_{2}^{2} m \\sin{\\left(\\theta_{1} \\right)} \\sin^{2}{\\left(\\theta_{2} \\right)} \\cos{\\left(\\theta_{1} \\right)} + 0.25 L_{3}^{2} m \\left(1.0 \\sin{\\left(\\theta_{1} \\right)} \\cos{\\left(\\theta_{3} \\right)} - \\sin{\\left(\\theta_{3} \\right)} \\cos{\\left(\\theta_{1} \\right)} \\cos{\\left(\\theta_{2} \\right)}\\right) \\left(- \\sin{\\left(\\theta_{1} \\right)} \\sin{\\left(\\theta_{3} \\right)} \\cos{\\left(\\theta_{2} \\right)} - 1.0 \\cos{\\left(\\theta_{1} \\right)} \\cos{\\left(\\theta_{3} \\right)}\\right) + m \\left(- 1.0 L_{1} \\sin{\\left(\\theta_{1} \\right)} - 0.5 L_{2} \\sin{\\left(\\theta_{1} \\right)} \\cos{\\left(\\theta_{2} \\right)}\\right) \\left(1.0 L_{1} \\cos{\\left(\\theta_{1} \\right)} + 0.5 L_{2} \\cos{\\left(\\theta_{1} \\right)} \\cos{\\left(\\theta_{2} \\right)}\\right) + m \\left(- 1.0 L_{2} \\sin{\\left(\\theta_{1} \\right)} \\sin{\\left(\\theta_{2} \\right)} - 0.5 L_{3} \\sin{\\left(\\theta_{1} \\right)} \\sin{\\left(\\theta_{2} \\right)} \\cos{\\left(\\theta_{3} \\right)}\\right) \\left(- 1.0 L_{2} \\sin{\\left(\\theta_{2} \\right)} \\cos{\\left(\\theta_{1} \\right)} - 0.5 L_{3} \\sin{\\left(\\theta_{2} \\right)} \\cos{\\left(\\theta_{1} \\right)} \\cos{\\left(\\theta_{3} \\right)}\\right) + m \\left(- 1.0 L_{1} \\sin{\\left(\\theta_{1} \\right)} - 1.0 L_{2} \\sin{\\left(\\theta_{1} \\right)} \\cos{\\left(\\theta_{2} \\right)} + 0.5 L_{3} \\left(- \\sin{\\left(\\theta_{1} \\right)} \\cos{\\left(\\theta_{2} \\right)} \\cos{\\left(\\theta_{3} \\right)} + 1.0 \\sin{\\left(\\theta_{3} \\right)} \\cos{\\left(\\theta_{1} \\right)}\\right)\\right) \\left(1.0 L_{1} \\cos{\\left(\\theta_{1} \\right)} + 1.0 L_{2} \\cos{\\left(\\theta_{1} \\right)} \\cos{\\left(\\theta_{2} \\right)} + 0.5 L_{3} \\left(1.0 \\sin{\\left(\\theta_{1} \\right)} \\sin{\\left(\\theta_{3} \\right)} + \\cos{\\left(\\theta_{1} \\right)} \\cos{\\left(\\theta_{2} \\right)} \\cos{\\left(\\theta_{3} \\right)}\\right)\\right) & 0.25 L_{2}^{2} m \\sin^{2}{\\left(\\theta_{1} \\right)} \\sin^{2}{\\left(\\theta_{2} \\right)} + 0.25 L_{3}^{2} m \\left(- \\sin{\\left(\\theta_{1} \\right)} \\sin{\\left(\\theta_{3} \\right)} \\cos{\\left(\\theta_{2} \\right)} - 1.0 \\cos{\\left(\\theta_{1} \\right)} \\cos{\\left(\\theta_{3} \\right)}\\right)^{2} + \\frac{m \\left(L_{1}^{2} + h^{2}\\right)}{6} + m \\left(1.0 L_{1} \\cos{\\left(\\theta_{1} \\right)} + 0.5 L_{2} \\cos{\\left(\\theta_{1} \\right)} \\cos{\\left(\\theta_{2} \\right)}\\right)^{2} + m \\left(- 1.0 L_{2} \\sin{\\left(\\theta_{1} \\right)} \\sin{\\left(\\theta_{2} \\right)} - 0.5 L_{3} \\sin{\\left(\\theta_{1} \\right)} \\sin{\\left(\\theta_{2} \\right)} \\cos{\\left(\\theta_{3} \\right)}\\right)^{2} + m \\left(1.0 L_{1} \\cos{\\left(\\theta_{1} \\right)} + 1.0 L_{2} \\cos{\\left(\\theta_{1} \\right)} \\cos{\\left(\\theta_{2} \\right)} + 0.5 L_{3} \\left(1.0 \\sin{\\left(\\theta_{1} \\right)} \\sin{\\left(\\theta_{3} \\right)} + \\cos{\\left(\\theta_{1} \\right)} \\cos{\\left(\\theta_{2} \\right)} \\cos{\\left(\\theta_{3} \\right)}\\right)\\right)^{2} & 0.25 L_{2}^{2} m \\sin{\\left(\\theta_{1} \\right)} \\sin{\\left(\\theta_{2} \\right)} \\cos{\\left(\\theta_{2} \\right)} + 0.25 L_{3}^{2} m \\left(- \\sin{\\left(\\theta_{1} \\right)} \\sin{\\left(\\theta_{3} \\right)} \\cos{\\left(\\theta_{2} \\right)} - 1.0 \\cos{\\left(\\theta_{1} \\right)} \\cos{\\left(\\theta_{3} \\right)}\\right) \\sin{\\left(\\theta_{2} \\right)} \\sin{\\left(\\theta_{3} \\right)} + m \\left(- 1.0 L_{2} \\cos{\\left(\\theta_{2} \\right)} - 0.5 L_{3} \\cos{\\left(\\theta_{2} \\right)} \\cos{\\left(\\theta_{3} \\right)}\\right) \\left(- 1.0 L_{2} \\sin{\\left(\\theta_{1} \\right)} \\sin{\\left(\\theta_{2} \\right)} - 0.5 L_{3} \\sin{\\left(\\theta_{1} \\right)} \\sin{\\left(\\theta_{2} \\right)} \\cos{\\left(\\theta_{3} \\right)}\\right)\\\\0.25 L_{2}^{2} m \\sin{\\left(\\theta_{2} \\right)} \\cos{\\left(\\theta_{1} \\right)} \\cos{\\left(\\theta_{2} \\right)} + 0.25 L_{3}^{2} m \\left(1.0 \\sin{\\left(\\theta_{1} \\right)} \\cos{\\left(\\theta_{3} \\right)} - \\sin{\\left(\\theta_{3} \\right)} \\cos{\\left(\\theta_{1} \\right)} \\cos{\\left(\\theta_{2} \\right)}\\right) \\sin{\\left(\\theta_{2} \\right)} \\sin{\\left(\\theta_{3} \\right)} + m \\left(- 1.0 L_{2} \\cos{\\left(\\theta_{2} \\right)} - 0.5 L_{3} \\cos{\\left(\\theta_{2} \\right)} \\cos{\\left(\\theta_{3} \\right)}\\right) \\left(- 1.0 L_{2} \\sin{\\left(\\theta_{2} \\right)} \\cos{\\left(\\theta_{1} \\right)} - 0.5 L_{3} \\sin{\\left(\\theta_{2} \\right)} \\cos{\\left(\\theta_{1} \\right)} \\cos{\\left(\\theta_{3} \\right)}\\right) & 0.25 L_{2}^{2} m \\sin{\\left(\\theta_{1} \\right)} \\sin{\\left(\\theta_{2} \\right)} \\cos{\\left(\\theta_{2} \\right)} + 0.25 L_{3}^{2} m \\left(- \\sin{\\left(\\theta_{1} \\right)} \\sin{\\left(\\theta_{3} \\right)} \\cos{\\left(\\theta_{2} \\right)} - 1.0 \\cos{\\left(\\theta_{1} \\right)} \\cos{\\left(\\theta_{3} \\right)}\\right) \\sin{\\left(\\theta_{2} \\right)} \\sin{\\left(\\theta_{3} \\right)} + m \\left(- 1.0 L_{2} \\cos{\\left(\\theta_{2} \\right)} - 0.5 L_{3} \\cos{\\left(\\theta_{2} \\right)} \\cos{\\left(\\theta_{3} \\right)}\\right) \\left(- 1.0 L_{2} \\sin{\\left(\\theta_{1} \\right)} \\sin{\\left(\\theta_{2} \\right)} - 0.5 L_{3} \\sin{\\left(\\theta_{1} \\right)} \\sin{\\left(\\theta_{2} \\right)} \\cos{\\left(\\theta_{3} \\right)}\\right) & 0.25 L_{2}^{2} m \\cos^{2}{\\left(\\theta_{2} \\right)} + 0.25 L_{3}^{2} m \\sin^{2}{\\left(\\theta_{2} \\right)} \\sin^{2}{\\left(\\theta_{3} \\right)} + \\frac{h^{2} m}{6} + m \\left(- 1.0 L_{2} \\cos{\\left(\\theta_{2} \\right)} - 0.5 L_{3} \\cos{\\left(\\theta_{2} \\right)} \\cos{\\left(\\theta_{3} \\right)}\\right)^{2}\\end{matrix}\\right]$"
      ],
      "text/plain": [
       "Matrix([\n",
       "[                                                                                                                                                                                                                                                                                                                     0.25*L2**2*m*sin(theta2)**2*cos(theta1)**2 + 0.25*L3**2*m*(1.0*sin(theta1)*cos(theta3) - sin(theta3)*cos(theta1)*cos(theta2))**2 + m*(L1**2 + h**2)/4 + m*(-1.0*L1*sin(theta1) - 0.5*L2*sin(theta1)*cos(theta2))**2 + m*(-1.0*L2*sin(theta2)*cos(theta1) - 0.5*L3*sin(theta2)*cos(theta1)*cos(theta3))**2 + m*(-1.0*L1*sin(theta1) - 1.0*L2*sin(theta1)*cos(theta2) + 0.5*L3*(-sin(theta1)*cos(theta2)*cos(theta3) + 1.0*sin(theta3)*cos(theta1)))**2, 0.25*L2**2*m*sin(theta1)*sin(theta2)**2*cos(theta1) + 0.25*L3**2*m*(1.0*sin(theta1)*cos(theta3) - sin(theta3)*cos(theta1)*cos(theta2))*(-sin(theta1)*sin(theta3)*cos(theta2) - 1.0*cos(theta1)*cos(theta3)) + m*(-1.0*L1*sin(theta1) - 0.5*L2*sin(theta1)*cos(theta2))*(1.0*L1*cos(theta1) + 0.5*L2*cos(theta1)*cos(theta2)) + m*(-1.0*L2*sin(theta1)*sin(theta2) - 0.5*L3*sin(theta1)*sin(theta2)*cos(theta3))*(-1.0*L2*sin(theta2)*cos(theta1) - 0.5*L3*sin(theta2)*cos(theta1)*cos(theta3)) + m*(-1.0*L1*sin(theta1) - 1.0*L2*sin(theta1)*cos(theta2) + 0.5*L3*(-sin(theta1)*cos(theta2)*cos(theta3) + 1.0*sin(theta3)*cos(theta1)))*(1.0*L1*cos(theta1) + 1.0*L2*cos(theta1)*cos(theta2) + 0.5*L3*(1.0*sin(theta1)*sin(theta3) + cos(theta1)*cos(theta2)*cos(theta3))),  0.25*L2**2*m*sin(theta2)*cos(theta1)*cos(theta2) + 0.25*L3**2*m*(1.0*sin(theta1)*cos(theta3) - sin(theta3)*cos(theta1)*cos(theta2))*sin(theta2)*sin(theta3) + m*(-1.0*L2*cos(theta2) - 0.5*L3*cos(theta2)*cos(theta3))*(-1.0*L2*sin(theta2)*cos(theta1) - 0.5*L3*sin(theta2)*cos(theta1)*cos(theta3))],\n",
       "[0.25*L2**2*m*sin(theta1)*sin(theta2)**2*cos(theta1) + 0.25*L3**2*m*(1.0*sin(theta1)*cos(theta3) - sin(theta3)*cos(theta1)*cos(theta2))*(-sin(theta1)*sin(theta3)*cos(theta2) - 1.0*cos(theta1)*cos(theta3)) + m*(-1.0*L1*sin(theta1) - 0.5*L2*sin(theta1)*cos(theta2))*(1.0*L1*cos(theta1) + 0.5*L2*cos(theta1)*cos(theta2)) + m*(-1.0*L2*sin(theta1)*sin(theta2) - 0.5*L3*sin(theta1)*sin(theta2)*cos(theta3))*(-1.0*L2*sin(theta2)*cos(theta1) - 0.5*L3*sin(theta2)*cos(theta1)*cos(theta3)) + m*(-1.0*L1*sin(theta1) - 1.0*L2*sin(theta1)*cos(theta2) + 0.5*L3*(-sin(theta1)*cos(theta2)*cos(theta3) + 1.0*sin(theta3)*cos(theta1)))*(1.0*L1*cos(theta1) + 1.0*L2*cos(theta1)*cos(theta2) + 0.5*L3*(1.0*sin(theta1)*sin(theta3) + cos(theta1)*cos(theta2)*cos(theta3))),                                                                                                                                                                                                                                                                                                                        0.25*L2**2*m*sin(theta1)**2*sin(theta2)**2 + 0.25*L3**2*m*(-sin(theta1)*sin(theta3)*cos(theta2) - 1.0*cos(theta1)*cos(theta3))**2 + m*(L1**2 + h**2)/6 + m*(1.0*L1*cos(theta1) + 0.5*L2*cos(theta1)*cos(theta2))**2 + m*(-1.0*L2*sin(theta1)*sin(theta2) - 0.5*L3*sin(theta1)*sin(theta2)*cos(theta3))**2 + m*(1.0*L1*cos(theta1) + 1.0*L2*cos(theta1)*cos(theta2) + 0.5*L3*(1.0*sin(theta1)*sin(theta3) + cos(theta1)*cos(theta2)*cos(theta3)))**2, 0.25*L2**2*m*sin(theta1)*sin(theta2)*cos(theta2) + 0.25*L3**2*m*(-sin(theta1)*sin(theta3)*cos(theta2) - 1.0*cos(theta1)*cos(theta3))*sin(theta2)*sin(theta3) + m*(-1.0*L2*cos(theta2) - 0.5*L3*cos(theta2)*cos(theta3))*(-1.0*L2*sin(theta1)*sin(theta2) - 0.5*L3*sin(theta1)*sin(theta2)*cos(theta3))],\n",
       "[                                                                                                                                                                                                                                                                                                                                                                                                                                                                     0.25*L2**2*m*sin(theta2)*cos(theta1)*cos(theta2) + 0.25*L3**2*m*(1.0*sin(theta1)*cos(theta3) - sin(theta3)*cos(theta1)*cos(theta2))*sin(theta2)*sin(theta3) + m*(-1.0*L2*cos(theta2) - 0.5*L3*cos(theta2)*cos(theta3))*(-1.0*L2*sin(theta2)*cos(theta1) - 0.5*L3*sin(theta2)*cos(theta1)*cos(theta3)),                                                                                                                                                                                                                                                                                                                                                                                                                                                                     0.25*L2**2*m*sin(theta1)*sin(theta2)*cos(theta2) + 0.25*L3**2*m*(-sin(theta1)*sin(theta3)*cos(theta2) - 1.0*cos(theta1)*cos(theta3))*sin(theta2)*sin(theta3) + m*(-1.0*L2*cos(theta2) - 0.5*L3*cos(theta2)*cos(theta3))*(-1.0*L2*sin(theta1)*sin(theta2) - 0.5*L3*sin(theta1)*sin(theta2)*cos(theta3)),                                                                                                                                                      0.25*L2**2*m*cos(theta2)**2 + 0.25*L3**2*m*sin(theta2)**2*sin(theta3)**2 + h**2*m/6 + m*(-1.0*L2*cos(theta2) - 0.5*L3*cos(theta2)*cos(theta3))**2]])"
      ]
     },
     "execution_count": 43,
     "metadata": {},
     "output_type": "execute_result"
    }
   ],
   "source": [
    "mass_matrix"
   ]
  },
  {
   "cell_type": "code",
   "execution_count": null,
   "metadata": {},
   "outputs": [],
   "source": []
  }
 ],
 "metadata": {
  "kernelspec": {
   "display_name": "Python 3",
   "language": "python",
   "name": "python3"
  },
  "language_info": {
   "codemirror_mode": {
    "name": "ipython",
    "version": 3
   },
   "file_extension": ".py",
   "mimetype": "text/x-python",
   "name": "python",
   "nbconvert_exporter": "python",
   "pygments_lexer": "ipython3",
   "version": "3.8.0"
  }
 },
 "nbformat": 4,
 "nbformat_minor": 4
}
