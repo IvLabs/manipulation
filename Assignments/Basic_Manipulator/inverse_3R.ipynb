{
 "cells": [
  {
   "cell_type": "code",
   "execution_count": 25,
   "metadata": {},
   "outputs": [],
   "source": [
    "import sympy as sp\n",
    "import numpy as np\n",
    "from numpy import cos , sin"
   ]
  },
  {
   "cell_type": "code",
   "execution_count": 26,
   "metadata": {},
   "outputs": [],
   "source": [
    "theta1 , theta2 , theta3 = 0.1 ,0.1 ,0.1\n",
    "L1 , L2 ,L3 = 1,1,1\n",
    "x,y,z = 2,2,1"
   ]
  },
  {
   "cell_type": "code",
   "execution_count": 27,
   "metadata": {},
   "outputs": [],
   "source": [
    "loss = (-1.0*L2*sin(theta2) - L3*sin(theta2)*cos(theta3) - z)**2 + (1.0*L1*sin(theta1) + 1.0*L2*sin(theta1)*cos(theta2) + L3*(sin(theta1)*cos(theta2)*cos(theta3) - 1.0*sin(theta3)*cos(theta1)) - y)**2 + (1.0*L1*cos(theta1) + 1.0*L2*cos(theta1)*cos(theta2) + L3*(1.0*sin(theta1)*sin(theta3) + cos(theta1)*cos(theta2)*cos(theta3)) - x)**2"
   ]
  },
  {
   "cell_type": "code",
   "execution_count": 28,
   "metadata": {},
   "outputs": [],
   "source": [
    "l1 = (-2.0*L1*sin(theta1) - 2.0*L2*sin(theta1)*cos(theta2) + 2*L3*(-sin(theta1)*cos(theta2)*cos(theta3) + 1.0*sin(theta3)*cos(theta1)))*(1.0*L1*cos(theta1) + 1.0*L2*cos(theta1)*cos(theta2) + L3*(1.0*sin(theta1)*sin(theta3) + cos(theta1)*cos(theta2)*cos(theta3)) - x) + (2.0*L1*cos(theta1) + 2.0*L2*cos(theta1)*cos(theta2) + 2*L3*(1.0*sin(theta1)*sin(theta3) + cos(theta1)*cos(theta2)*cos(theta3)))*(1.0*L1*sin(theta1) + 1.0*L2*sin(theta1)*cos(theta2) + L3*(sin(theta1)*cos(theta2)*cos(theta3) - 1.0*sin(theta3)*cos(theta1)) - y)\n",
    "l2 = (-2.0*L2*cos(theta2) - 2*L3*cos(theta2)*cos(theta3))*(-1.0*L2*sin(theta2) - L3*sin(theta2)*cos(theta3) - z) + (-2.0*L2*sin(theta1)*sin(theta2) - 2*L3*sin(theta1)*sin(theta2)*cos(theta3))*(1.0*L1*sin(theta1) + 1.0*L2*sin(theta1)*cos(theta2) + L3*(sin(theta1)*cos(theta2)*cos(theta3) - 1.0*sin(theta3)*cos(theta1)) - y) + (-2.0*L2*sin(theta2)*cos(theta1) - 2*L3*sin(theta2)*cos(theta1)*cos(theta3))*(1.0*L1*cos(theta1) + 1.0*L2*cos(theta1)*cos(theta2) + L3*(1.0*sin(theta1)*sin(theta3) + cos(theta1)*cos(theta2)*cos(theta3)) - x)\n",
    "l3 = 2*L3*(1.0*sin(theta1)*cos(theta3) - sin(theta3)*cos(theta1)*cos(theta2))*(1.0*L1*cos(theta1) + 1.0*L2*cos(theta1)*cos(theta2) + L3*(1.0*sin(theta1)*sin(theta3) + cos(theta1)*cos(theta2)*cos(theta3)) - x) + 2*L3*(-sin(theta1)*sin(theta3)*cos(theta2) - 1.0*cos(theta1)*cos(theta3))*(1.0*L1*sin(theta1) + 1.0*L2*sin(theta1)*cos(theta2) + L3*(sin(theta1)*cos(theta2)*cos(theta3) - 1.0*sin(theta3)*cos(theta1)) - y) + 2*L3*(-1.0*L2*sin(theta2) - L3*sin(theta2)*cos(theta3) - z)*sin(theta2)*sin(theta3)\n"
   ]
  },
  {
   "cell_type": "code",
   "execution_count": 29,
   "metadata": {},
   "outputs": [],
   "source": [
    "for i in range(1000):\n",
    "    l1 = (-2.0*L1*sin(theta1) - 2.0*L2*sin(theta1)*cos(theta2) + 2*L3*(-sin(theta1)*cos(theta2)*cos(theta3) + 1.0*sin(theta3)*cos(theta1)))*(1.0*L1*cos(theta1) + 1.0*L2*cos(theta1)*cos(theta2) + L3*(1.0*sin(theta1)*sin(theta3) + cos(theta1)*cos(theta2)*cos(theta3)) - x) + (2.0*L1*cos(theta1) + 2.0*L2*cos(theta1)*cos(theta2) + 2*L3*(1.0*sin(theta1)*sin(theta3) + cos(theta1)*cos(theta2)*cos(theta3)))*(1.0*L1*sin(theta1) + 1.0*L2*sin(theta1)*cos(theta2) + L3*(sin(theta1)*cos(theta2)*cos(theta3) - 1.0*sin(theta3)*cos(theta1)) - y)\n",
    "    l2 = (-2.0*L2*cos(theta2) - 2*L3*cos(theta2)*cos(theta3))*(-1.0*L2*sin(theta2) - L3*sin(theta2)*cos(theta3) - z) + (-2.0*L2*sin(theta1)*sin(theta2) - 2*L3*sin(theta1)*sin(theta2)*cos(theta3))*(1.0*L1*sin(theta1) + 1.0*L2*sin(theta1)*cos(theta2) + L3*(sin(theta1)*cos(theta2)*cos(theta3) - 1.0*sin(theta3)*cos(theta1)) - y) + (-2.0*L2*sin(theta2)*cos(theta1) - 2*L3*sin(theta2)*cos(theta1)*cos(theta3))*(1.0*L1*cos(theta1) + 1.0*L2*cos(theta1)*cos(theta2) + L3*(1.0*sin(theta1)*sin(theta3) + cos(theta1)*cos(theta2)*cos(theta3)) - x)\n",
    "    l3 = 2*L3*(1.0*sin(theta1)*cos(theta3) - sin(theta3)*cos(theta1)*cos(theta2))*(1.0*L1*cos(theta1) + 1.0*L2*cos(theta1)*cos(theta2) + L3*(1.0*sin(theta1)*sin(theta3) + cos(theta1)*cos(theta2)*cos(theta3)) - x) + 2*L3*(-sin(theta1)*sin(theta3)*cos(theta2) - 1.0*cos(theta1)*cos(theta3))*(1.0*L1*sin(theta1) + 1.0*L2*sin(theta1)*cos(theta2) + L3*(sin(theta1)*cos(theta2)*cos(theta3) - 1.0*sin(theta3)*cos(theta1)) - y) + 2*L3*(-1.0*L2*sin(theta2) - L3*sin(theta2)*cos(theta3) - z)*sin(theta2)*sin(theta3)\n",
    "\n",
    "    theta1 -= 0.05*l1\n",
    "    theta2 -= 0.05*l2\n",
    "    theta3 -= 0.05*l3"
   ]
  },
  {
   "cell_type": "code",
   "execution_count": 30,
   "metadata": {},
   "outputs": [],
   "source": [
    "fx = 1.0*L1*cos(theta1) + 1.0*L2*cos(theta1)*cos(theta2) + L3*(1.0*sin(theta1)*sin(theta3) + cos(theta1)*cos(theta2)*cos(theta3))\n",
    "fy = 1.0*L1*sin(theta1) + 1.0*L2*sin(theta1)*cos(theta2) + L3*(sin(theta1)*cos(theta2)*cos(theta3) - 1.0*sin(theta3)*cos(theta1))\n",
    "fz = -1.0*L2*sin(theta2) - L3*sin(theta2)*cos(theta3)"
   ]
  },
  {
   "cell_type": "code",
   "execution_count": 31,
   "metadata": {},
   "outputs": [
    {
     "name": "stdout",
     "output_type": "stream",
     "text": [
      "1.9478774092410678 1.947871201468872 0.9596829091925754\n",
      "0.007\n"
     ]
    }
   ],
   "source": [
    "print(fx,fy,fz)\n",
    "loss = (-1.0*L2*sin(theta2) - L3*sin(theta2)*cos(theta3) - z)**2 + (1.0*L1*sin(theta1) + 1.0*L2*sin(theta1)*cos(theta2) + L3*(sin(theta1)*cos(theta2)*cos(theta3) - 1.0*sin(theta3)*cos(theta1)) - y)**2 + (1.0*L1*cos(theta1) + 1.0*L2*cos(theta1)*cos(theta2) + L3*(1.0*sin(theta1)*sin(theta3) + cos(theta1)*cos(theta2)*cos(theta3)) - x)**2\n",
    "print(round(loss,3))"
   ]
  },
  {
   "cell_type": "code",
   "execution_count": null,
   "metadata": {},
   "outputs": [],
   "source": []
  }
 ],
 "metadata": {
  "kernelspec": {
   "display_name": "Python 3",
   "language": "python",
   "name": "python3"
  },
  "language_info": {
   "codemirror_mode": {
    "name": "ipython",
    "version": 3
   },
   "file_extension": ".py",
   "mimetype": "text/x-python",
   "name": "python",
   "nbconvert_exporter": "python",
   "pygments_lexer": "ipython3",
   "version": "3.8.0"
  }
 },
 "nbformat": 4,
 "nbformat_minor": 4
}
